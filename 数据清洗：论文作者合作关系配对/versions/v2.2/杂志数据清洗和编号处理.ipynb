{
 "cells": [
  {
   "cell_type": "code",
   "execution_count": 1,
   "metadata": {},
   "outputs": [],
   "source": [
    "import pandas as pd\n",
    "import numpy as np\n",
    "import re #正则表达式需要\n",
    "import difflib#判断相似度需要\n",
    "import string#字符串处理需要\n",
    "import sys\n",
    "from xpinyin import Pinyin#汉语转拼音\n",
    "sys.path\n",
    "sys.path.append(\"../../../../def\")\n",
    "import str_process\n",
    "py = Pinyin()\n",
    "pd.set_option('display.max_rows', 100)\n",
    "p = re.compile(r'[（](.*?)[）]', re.S)\n",
    "def string_similar(s1, s2):#对比字符串相似度\n",
    "    return difflib.SequenceMatcher(None, s1, s2).quick_ratio()"
   ]
  },
  {
   "cell_type": "code",
   "execution_count": 2,
   "metadata": {},
   "outputs": [],
   "source": [
    "data=pd.read_excel('./data_2.0.xlsx')"
   ]
  },
  {
   "cell_type": "code",
   "execution_count": 18,
   "metadata": {},
   "outputs": [],
   "source": [
    "journallist = []"
   ]
  },
  {
   "cell_type": "code",
   "execution_count": 19,
   "metadata": {},
   "outputs": [],
   "source": [
    "def addlist(journal):\n",
    "    journal = re.sub(u\"\\\\(.*?\\\\)|\\\\{.*?}|\\\\[.*?]\", \"\", journal)\n",
    "    journal = re.sub(u\"\\\\（.*?）|\\\\{.*?}|\\\\[.*?]|\\\\【.*?】\", \"\", journal.encode('utf-8').decode())\n",
    "    journal = str_process.delete_between_two_str(journal,'第','届')\n",
    "    journal = str_process.delete_between_two_str(journal,'(','）')\n",
    "    journal = str_process.delete_char(journal,'1234567890')\n",
    "    journal = str_process.delete_after_str(journal,'学报',1)\n",
    "    journal = str_process.accurate_delete_str(journal,'年',['年会'])\n",
    "    journal = str_process.delete_str(journal,['th','rd','nd','st','理工版','英文版','工学版','理学版','自然科学版','工程技术版','自然科学英文版',' '])\n",
    "    if journal not in journallist:\n",
    "        for i in range(len(journallist)):\n",
    "            if str_process.get_string_similar(journal.upper(),journallist[i].upper())>0.95:\n",
    "                return\n",
    "        journallist.append(journal)"
   ]
  },
  {
   "cell_type": "code",
   "execution_count": 20,
   "metadata": {},
   "outputs": [],
   "source": [
    "for i in range(len(data)):#i 0-8931 行号1-8932\n",
    "    addlist(data.loc[i+1,'journal'])#写一个函数，将完全重复的元素去掉"
   ]
  },
  {
   "cell_type": "code",
   "execution_count": 21,
   "metadata": {},
   "outputs": [],
   "source": [
    "journallist = pd.DataFrame(data=journallist,columns=['journal'])\n",
    "my_index = journallist.journal.str.len().sort_values().index\n",
    "journallist=journallist.reindex(my_index)\n",
    "journallist=journallist.reset_index(drop=True)"
   ]
  },
  {
   "cell_type": "code",
   "execution_count": 22,
   "metadata": {},
   "outputs": [],
   "source": [
    "journallist=journallist.reset_index(drop=True)"
   ]
  },
  {
   "cell_type": "code",
   "execution_count": 23,
   "metadata": {},
   "outputs": [],
   "source": [
    "journallist.to_excel('journal2.0.xlsx')"
   ]
  },
  {
   "cell_type": "code",
   "execution_count": 24,
   "metadata": {},
   "outputs": [
    {
     "data": {
      "text/plain": [
       "1610"
      ]
     },
     "execution_count": 24,
     "metadata": {},
     "output_type": "execute_result"
    }
   ],
   "source": [
    "len(journallist)"
   ]
  },
  {
   "cell_type": "markdown",
   "metadata": {},
   "source": [
    "1中英括号可以删掉\n",
    "2 届数看情况处理"
   ]
  },
  {
   "cell_type": "code",
   "execution_count": 35,
   "metadata": {},
   "outputs": [
    {
     "data": {
      "text/plain": [
       "'asdfasaaaaa(123123d)aaaaaa'"
      ]
     },
     "execution_count": 35,
     "metadata": {},
     "output_type": "execute_result"
    }
   ],
   "source": [
    "jour"
   ]
  },
  {
   "cell_type": "code",
   "execution_count": 36,
   "metadata": {},
   "outputs": [
    {
     "data": {
      "text/plain": [
       "'asdfasaaaaaaaaaaa'"
      ]
     },
     "execution_count": 36,
     "metadata": {},
     "output_type": "execute_result"
    }
   ],
   "source": []
  },
  {
   "cell_type": "code",
   "execution_count": null,
   "metadata": {},
   "outputs": [],
   "source": []
  }
 ],
 "metadata": {
  "kernelspec": {
   "display_name": "Python 3",
   "language": "python",
   "name": "python3"
  },
  "language_info": {
   "codemirror_mode": {
    "name": "ipython",
    "version": 3
   },
   "file_extension": ".py",
   "mimetype": "text/x-python",
   "name": "python",
   "nbconvert_exporter": "python",
   "pygments_lexer": "ipython3",
   "version": "3.7.0"
  }
 },
 "nbformat": 4,
 "nbformat_minor": 2
}
