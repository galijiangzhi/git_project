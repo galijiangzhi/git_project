{
 "cells": [
  {
   "cell_type": "code",
   "execution_count": 1,
   "metadata": {},
   "outputs": [],
   "source": [
    "import pandas as pd\n",
    "import numpy as np\n",
    "import re\n",
    "import difflib\n",
    "import string\n",
    "from xpinyin import Pinyin\n",
    "py = Pinyin()\n",
    "pd.set_option('display.max_rows', None)\n",
    "p = re.compile(r'[（](.*?)[）]', re.S)\n",
    "def string_similar(s1, s2):#对比字符串相似度\n",
    "    return difflib.SequenceMatcher(None, s1, s2).quick_ratio()"
   ]
  },
  {
   "cell_type": "code",
   "execution_count": 2,
   "metadata": {},
   "outputs": [],
   "source": [
    "fpath = './data.xlsx'\n",
    "pvuv = pd.read_excel(fpath)"
   ]
  },
  {
   "cell_type": "code",
   "execution_count": 3,
   "metadata": {},
   "outputs": [],
   "source": [
    "df=pvuv[['authors','organization']].loc[1:8932]#loc 切片"
   ]
  },
  {
   "cell_type": "code",
   "execution_count": 4,
   "metadata": {},
   "outputs": [],
   "source": [
    "def process(data):\n",
    "    #删除\\u3000\n",
    "    data[\"authors\"] = data[\"authors\"].replace('\\u3000','')\n",
    "    #删除１\n",
    "    data[\"authors\"] = data[\"authors\"].replace('１','')\n",
    "    #删除\n",
    "    data[\"authors\"] = data[\"authors\"].replace('','')\n",
    "    #删除括号\n",
    "    data[\"authors\"] = re.sub(p,'',data[\"authors\"])\n",
    "    #删除括号右边的内容\n",
    "    data[\"authors\"] = data[\"authors\"].split('(')[0]\n",
    "    #删除[]\n",
    "    data[\"authors\"] = data[\"authors\"].replace('[','').replace(']','') \n",
    "    #删除国家\n",
    "    data[\"authors\"] = data[\"authors\"].replace('zh_CN','')\n",
    "    #删除数字\n",
    "    data[\"authors\"] = re.sub('[\\d]','',data[\"authors\"])\n",
    "    #将:改为;\n",
    "    data[\"authors\"] = data[\"authors\"].replace(':',';')\n",
    "    \n",
    "    return data"
   ]
  },
  {
   "cell_type": "code",
   "execution_count": 5,
   "metadata": {},
   "outputs": [],
   "source": [
    "df.loc[:,\"authors\"]=df.apply(process,axis=1)"
   ]
  },
  {
   "cell_type": "markdown",
   "metadata": {},
   "source": [
    "2782：'Boxuan Yue, Qinghua Chi, Kangling Liu,;Jun Liang'\n",
    "2878：'Zhou;J.L.;Wang;X.;Zhang;J.F.;Wang;H.;Yang;G.H.'"
   ]
  },
  {
   "cell_type": "code",
   "execution_count": 6,
   "metadata": {},
   "outputs": [],
   "source": [
    "def cn(data):#判断中文\n",
    "    res = True\n",
    "    for w in data.replace(' ','').replace(',','').replace('，','').replace(';','').replace('；','').replace('.','').replace('·',''):\n",
    "        if not '\\u4e00' <= w <= '\\u9fff':\n",
    "            res = False\n",
    "            break\n",
    "    return res"
   ]
  },
  {
   "cell_type": "code",
   "execution_count": 7,
   "metadata": {},
   "outputs": [],
   "source": [
    "def fuhao(data):\n",
    "    return data.replace(' ','').replace(',','').replace('，','').replace(';','').replace('；','').replace('.','').replace('·','').replace('-','')"
   ]
  },
  {
   "cell_type": "code",
   "execution_count": 8,
   "metadata": {},
   "outputs": [],
   "source": [
    "def name(data):\n",
    "    result1 = py.get_pinyin(data).upper()\n",
    "    s = result1.split('-')\n",
    "    s1 = s[0]\n",
    "    del s[0]\n",
    "    result2=s1+''.join(i[0] for i in s)\n",
    "    return result2"
   ]
  },
  {
   "cell_type": "code",
   "execution_count": 9,
   "metadata": {},
   "outputs": [],
   "source": [
    "def judge(str1,data):#判断可不可以替代\n",
    "    global authors_list\n",
    "    res=False\n",
    "    if len(authors_list)>0:\n",
    "        if cn(str1):#如果这次操作的是一个中文\n",
    "            for i in range(len(authors_list)):\n",
    "                str2 = authors_list.loc[i][\"authors\"]\n",
    "                if cn(str2):#str1和str2都是中文\n",
    "                    if str1==str2:\n",
    "                        if (data[\"organization\"]==authors_list.loc[i,\"organization\"]):\n",
    "                            res = True\n",
    "                            break\n",
    "                else:\n",
    "                    str1_py = py.get_pinyin(str1).upper().replace('-','')#全名拼音\n",
    "                    str1_py_s = name(str1)#拼音名缩写\n",
    "                    if (string_similar(fuhao(str1_py), fuhao(str2))>0.89) or (string_similar(fuhao(str1_py_s), fuhao(str2))>=0.8):\n",
    "                        if (data[\"organization\"]==authors_list.loc[i,\"organization\"]):\n",
    "                            res = True\n",
    "                            break\n",
    "        else:#str1是一个英文\n",
    "            str1_py = py.get_pinyin(str1).upper().replace('-','')#全名拼音\n",
    "            str1_py_s = name(str1)#拼音名缩写\n",
    "            for i in range(len(authors_list)):\n",
    "                str2=authors_list.loc[i][\"authors\"]\n",
    "                str2_py = py.get_pinyin(str2).upper().replace('-','')#全名拼音\n",
    "                str2_py_s = name(str2)\n",
    "                if cn(str2):#str2是中文:\n",
    "                    if (string_similar(fuhao(str2_py), fuhao(str1_py))>0.89) or (string_similar(fuhao(str2_py_s), fuhao(str1_py))>=0.8):\n",
    "                        if (data[\"organization\"]==authors_list.loc[i,\"organization\"]):\n",
    "                            res = True\n",
    "                            break\n",
    "                else:#两个都是英文\n",
    "                    if (string_similar(fuhao(str2_py),fuhao(str1_py))>0.89):\n",
    "                        if (data[\"organization\"]==authors_list.loc[i,\"organization\"]):\n",
    "                            res = True\n",
    "                            break\n",
    "    return res"
   ]
  },
  {
   "cell_type": "code",
   "execution_count": 10,
   "metadata": {},
   "outputs": [],
   "source": [
    "def add_list(data,lista):\n",
    "    global authors_list\n",
    "    while ' ' in lista:\n",
    "        lista.remove(' ')\n",
    "    while '' in lista:\n",
    "        lista.remove('')\n",
    "    for i in range(len(lista)):\n",
    "        if not (judge(lista[i],data)):\n",
    "            authors_list=authors_list.append({\"authors\":lista[i],\"organization\":data[\"organization\"]},ignore_index=True)"
   ]
  },
  {
   "cell_type": "code",
   "execution_count": 11,
   "metadata": {},
   "outputs": [],
   "source": [
    "def chinese0_pro(data):\n",
    "    lista=data[\"authors\"].split(' ')\n",
    "    if '等' in lista:\n",
    "        del lista[-1]\n",
    "    for i in range(len(lista)):\n",
    "        if i < len(lista):\n",
    "            if len(lista[i])==1:\n",
    "                if len(lista[i+1])==1:\n",
    "                    lista[i]+=lista[i+1]\n",
    "                    del lista[i+1]\n",
    "    add_list(data,lista)"
   ]
  },
  {
   "cell_type": "code",
   "execution_count": 12,
   "metadata": {},
   "outputs": [],
   "source": [
    "def chinese1_pro(data):\n",
    "    lista=data[\"authors\"].replace(' ','').replace('；',';').replace(',',';').replace('，',';').split(';')\n",
    "    add_list(data,lista)"
   ]
  },
  {
   "cell_type": "code",
   "execution_count": 13,
   "metadata": {},
   "outputs": [],
   "source": [
    "def chinese2_pro(data):\n",
    "    lista=data[\"authors\"].replace('；',';').replace(',',';').replace('，',';').split(';')\n",
    "    add_list(data,lista)"
   ]
  },
  {
   "cell_type": "code",
   "execution_count": 14,
   "metadata": {},
   "outputs": [],
   "source": [
    "def english0and1_pro(data):\n",
    "    lista=data[\"authors\"].split(';')\n",
    "    add_list(data,lista)"
   ]
  },
  {
   "cell_type": "code",
   "execution_count": 15,
   "metadata": {},
   "outputs": [],
   "source": [
    "def english0_1_pro(data):\n",
    "    lista=data[\"authors\"].split(';')\n",
    "    listb=[]\n",
    "    a=False\n",
    "    ak = 0\n",
    "    while '' in lista:\n",
    "        lista.remove('')\n",
    "    while ak<len(lista):\n",
    "        a=(len(lista[ak])<=5)\n",
    "        if a==True:#存在小于五个的情况\n",
    "            for i in range((int)(len(lista)/2)):\n",
    "                listb.append(lista[2*i-2]+lista[2*i-1]) \n",
    "                lista=listb\n",
    "                break\n",
    "        ak+=1   \n",
    "    add_list(data,lista)"
   ]
  },
  {
   "cell_type": "code",
   "execution_count": 16,
   "metadata": {},
   "outputs": [],
   "source": [
    "def english2_pro(data):#只包含空格和逗号的英文\n",
    "    lista=data[\"authors\"].split('，')\n",
    "    listb=[]\n",
    "    a=False\n",
    "    ak = 0\n",
    "    while '' in lista:\n",
    "        lista.remove('')\n",
    "    while ak<len(lista):\n",
    "        a=(len(lista[ak])<=8)\n",
    "        if a==True:#存在小于五个的情况\n",
    "            for i in range((int)(len(lista)/2)):\n",
    "                listb.append(lista[2*i-2]+lista[2*i-1]) \n",
    "                lista=listb\n",
    "                break\n",
    "        ak+=1\n",
    "    add_list(data,lista)"
   ]
  },
  {
   "cell_type": "code",
   "execution_count": 17,
   "metadata": {},
   "outputs": [],
   "source": [
    "def english3_pro(data):#只包括空格-;\n",
    "    lista=data[\"authors\"].split(';')\n",
    "    listb=[]\n",
    "    a=False\n",
    "    ak = 0\n",
    "    while '' in lista:\n",
    "        lista.remove('')\n",
    "    while ak<len(lista):\n",
    "        a=(len(lista[ak])<=5)\n",
    "        if a==True:#存在小于五个的情况\n",
    "            for i in range((int)(len(lista)/2)):\n",
    "                listb.append(lista[2*i-2]+lista[2*i-1]) \n",
    "                lista=listb\n",
    "                break\n",
    "        ak+=1\n",
    "    add_list(data,lista)"
   ]
  },
  {
   "cell_type": "code",
   "execution_count": 18,
   "metadata": {},
   "outputs": [],
   "source": [
    "def english4_pro(data):\n",
    "    lista=data[\"authors\"].split(';')\n",
    "    add_list(data,lista)"
   ]
  },
  {
   "cell_type": "markdown",
   "metadata": {},
   "source": [
    "2782：'Boxuan Yue, Qinghua Chi, Kangling Liu,;Jun Liang'\n",
    "2878：'Zhou;J.L.;Wang;X.;Zhang;J.F.;Wang;H.;Yang;G.H.'\n",
    "2879：Zhou;J. L.;Wang X;Zhang J.F. and Wang H.\n",
    "6480:'Lijun Liu, Shuming Cheng, Bo Qi, Zairong Xi,;Daoyi Dong'"
   ]
  },
  {
   "cell_type": "code",
   "execution_count": 19,
   "metadata": {},
   "outputs": [],
   "source": [
    "def english5_pro(data):\n",
    "    lista=data[\"authors\"].replace('.;',';').replace('.,',';').replace('.，',';').replace('and',';').split(';')\n",
    "    if 'Pand' in data[\"authors\"]:\n",
    "        lista=data[\"authors\"].replace('.;',';').replace('.,',';').replace('.，',';').split(';')\n",
    "    if data[\"authors\"] == df.loc[2782][\"authors\"] or data[\"authors\"] == df.loc[6480][\"authors\"]:\n",
    "        lista=data[\"authors\"].replace(',;',',').split(',')\n",
    "    elif data[\"authors\"] == df.loc[2878][\"authors\"]:\n",
    "        lista=data[\"authors\"].split('.;')\n",
    "    elif data[\"authors\"] == df.loc[2879][\"authors\"]:\n",
    "        lista=['Zhou;J. L.','Wang X','Zhang J.F.','Wang H.']\n",
    "    while '' in lista:\n",
    "        lista.remove('')\n",
    "    add_list(data,lista)"
   ]
  },
  {
   "cell_type": "code",
   "execution_count": 20,
   "metadata": {},
   "outputs": [],
   "source": [
    "def english6_pro(data):\n",
    "    lista=data[\"authors\"].replace('and',';').split(';')\n",
    "    if 'Pand' in data[\"authors\"] or 'uand' in data[\"authors\"]:\n",
    "        lista=data[\"authors\"].split(';')\n",
    "    if ';' not in data[\"authors\"]:\n",
    "        if len(data[\"authors\"])<11:\n",
    "            lista=data[\"authors\"].split(';')\n",
    "        else:\n",
    "            lista=data[\"authors\"].split(',')\n",
    "    if data[\"authors\"] == df.loc[7132][\"authors\"]:\n",
    "        lista=data[\"authors\"].replace(',',';').split(';')\n",
    "    if data[\"authors\"] == df.loc[6241][\"authors\"]:\n",
    "        lista=data[\"authors\"].split(';')\n",
    "    add_list(data,lista)"
   ]
  },
  {
   "cell_type": "code",
   "execution_count": 21,
   "metadata": {},
   "outputs": [],
   "source": [
    "def english7_pro(data):\n",
    "    lista=data[\"authors\"].split(';')\n",
    "    add_list(data,lista)"
   ]
  },
  {
   "cell_type": "code",
   "execution_count": 22,
   "metadata": {},
   "outputs": [],
   "source": [
    "def english8_pro(data):\n",
    "    lista=data[\"authors\"].split(';')\n",
    "    listb=[]\n",
    "    a=False\n",
    "    ak = 0\n",
    "    while '' in lista:\n",
    "        lista.remove('')\n",
    "    while ak<len(lista):\n",
    "        a=(len(lista[ak])<5)\n",
    "        if '.' in lista[ak]:\n",
    "            a == False \n",
    "        if a==True:#存在小于五个的情况\n",
    "            \n",
    "            for i in range((int)(len(lista)/2)):\n",
    "                listb.append(lista[2*i-2]+lista[2*i-1]) \n",
    "                lista=listb\n",
    "                break\n",
    "        ak+=1\n",
    "    add_list(data,lista)"
   ]
  },
  {
   "cell_type": "code",
   "execution_count": 23,
   "metadata": {},
   "outputs": [],
   "source": [
    "def english9_pro(data):\n",
    "    lista=data[\"authors\"].replace('and',',').split(',')\n",
    "    add_list(data,lista)"
   ]
  },
  {
   "cell_type": "code",
   "execution_count": 24,
   "metadata": {},
   "outputs": [],
   "source": [
    "def english10_pro(data):\n",
    "    lista=data[\"authors\"].split('，')\n",
    "    add_list(data,lista)"
   ]
  },
  {
   "cell_type": "code",
   "execution_count": 25,
   "metadata": {},
   "outputs": [],
   "source": [
    "def english11_pro(data):\n",
    "    lista=data[\"authors\"].split('，')\n",
    "    add_list(data,lista)"
   ]
  },
  {
   "cell_type": "code",
   "execution_count": 26,
   "metadata": {},
   "outputs": [],
   "source": [
    "def english12_pro(data):\n",
    "    lista=data[\"authors\"].split(',')\n",
    "    add_list(data,lista)"
   ]
  },
  {
   "cell_type": "code",
   "execution_count": 27,
   "metadata": {},
   "outputs": [],
   "source": [
    "def english13_pro(data):\n",
    "    lista=data[\"authors\"].split(';')\n",
    "    add_list(data,lista)"
   ]
  },
  {
   "cell_type": "code",
   "execution_count": 28,
   "metadata": {},
   "outputs": [],
   "source": [
    "def english14_pro(data):\n",
    "    lista=data[\"authors\"].split('，')\n",
    "    add_list(data,lista)"
   ]
  },
  {
   "cell_type": "code",
   "execution_count": 29,
   "metadata": {},
   "outputs": [],
   "source": [
    "def english15_pro(data):\n",
    "    lista=data[\"authors\"].split('，')\n",
    "    add_list(data,lista)"
   ]
  },
  {
   "cell_type": "code",
   "execution_count": 30,
   "metadata": {},
   "outputs": [],
   "source": [
    "def lang0_0_pro(data):\n",
    "    lista=data[\"authors\"].replace('；',';').split(';')\n",
    "    if data[\"authors\"] == '赵春晖 Wei Wang':\n",
    "        lista=['赵春晖', 'Wei Wang']\n",
    "    if data[\"authors\"] == '祝乔;Yin;Yi-Xin;Cheng;Han-Qing;Chen;Xian-Zhong':\n",
    "        lista=['祝乔','Yin Yi-Xin','Cheng Han-Qing','Chen;Xian-Zhong']\n",
    "    add_list(data,lista)"
   ]
  },
  {
   "cell_type": "code",
   "execution_count": 31,
   "metadata": {},
   "outputs": [],
   "source": [
    "def lang0_1_pro(data):\n",
    "    lista=data[\"authors\"].split('，')\n",
    "    add_list(data,lista)"
   ]
  },
  {
   "cell_type": "code",
   "execution_count": 32,
   "metadata": {},
   "outputs": [],
   "source": [
    "def lang0_2_pro(data):\n",
    "    lista=data[\"authors\"].replace(',',';').split(';')\n",
    "    add_list(data,lista)"
   ]
  },
  {
   "cell_type": "code",
   "execution_count": 33,
   "metadata": {},
   "outputs": [],
   "source": [
    "def lang0_pro(data):\n",
    "    lista=data[\"authors\"].replace('第一通讯作者','').split(';')\n",
    "    add_list(data,lista)"
   ]
  },
  {
   "cell_type": "code",
   "execution_count": 34,
   "metadata": {},
   "outputs": [],
   "source": [
    "def lang1_pro(data):\n",
    "    lista=data[\"authors\"].replace('li&','').split(';')\n",
    "    if data[\"authors\"] == 'Cheng;Y、Mao;JF、Wu;AH 、 Wu;GQ;Mao Jingfeng;Wu Aihua;Wu Guoqing':\n",
    "        lista=['ChengY','MaoJF','WuAH','WuGQ','Mao Jingfeng','Wu Aihua','Wu Guoqing']\n",
    "    add_list(data,lista)"
   ]
  },
  {
   "cell_type": "code",
   "execution_count": 35,
   "metadata": {},
   "outputs": [],
   "source": [
    "def lang2_pro(data):\n",
    "    if data[\"authors\"] == df.loc[4175,\"authors\"]:\n",
    "        lista=['Yajun Zhang','Y. Jia','T. Chai','D. Wang','W. Dai','J. Fu']\n",
    "    if data[\"authors\"] == df.loc[4176,\"authors\"]:\n",
    "        lista=['Yajun Zhang','T. Chai','H. Wang','D. Wang','X. Chen']\n",
    "    if data[\"authors\"] == df.loc[4556,\"authors\"]:\n",
    "        lista=['Xiaokun Dai','Yang Song','Mira Schüller','Dieter Schramm']\n",
    "    if data[\"authors\"] == df.loc[4612,\"authors\"]:\n",
    "        lista=['Xianzhen Zhang','Zuohua Liu','Hui Peng','Xianmin Zhan']\n",
    "    if data[\"authors\"] == df.loc[4617,\"authors\"]:\n",
    "        lista=['Xianmin Zhang','Praveen Agarwal','Zuohua Liu','Hui Peng']\n",
    "    if (data[\"authors\"] == df.loc[5924,\"authors\"]) or (data[\"authors\"] == df.loc[5925,\"authors\"]):\n",
    "        lista=['Qi Lü']\n",
    "    if data[\"authors\"] == df.loc[6808,\"authors\"]:\n",
    "        lista=['Kwon,Joseph Sang-Il','Nayhouse,Michael','Orkoulas,Gerassimos','Ni, Dong','Christofides, Panagiotis D.']\n",
    "    if data[\"authors\"] == df.loc[8366,\"authors\"]:\n",
    "        lista=['Crose, Marquis','Kwon, Joseph Sang-Il','Nayhouse, Michael','Ni, Dong','Christofides, Panagiotis D.']    \n",
    "    add_list(data,lista)"
   ]
  },
  {
   "cell_type": "code",
   "execution_count": 36,
   "metadata": {},
   "outputs": [],
   "source": [
    "def authors_pro(data):\n",
    "    if data[\"authors_type\"]==\"chinese0\":#只包括空格的中文\n",
    "        chinese0_pro(data)\n",
    "    elif data[\"authors_type\"]==\"chinese1\":#只包含符号;；,·，的中文\n",
    "        chinese1_pro(data)\n",
    "    elif data[\"authors_type\"]==\"chinese2\":#只包含符号;；,·，.的中文\n",
    "        chinese2_pro(data)\n",
    "    elif data[\"authors_type\"]==\"english0\":#只包括空格的英文\n",
    "        english0and1_pro(data)\n",
    "    elif data[\"authors_type\"]==\"english0_1\":#只包括空格和分号的英文\n",
    "        english0_1_pro(data)\n",
    "    elif data[\"authors_type\"]==\"english1\":\n",
    "        english0and1_pro(data)\n",
    "    elif data[\"authors_type\"]==\"english2\":\n",
    "        english2_pro(data)\n",
    "    elif data[\"authors_type\"]==\"english3\":\n",
    "        english3_pro(data)\n",
    "    elif data[\"authors_type\"]==\"english4\":\n",
    "        english4_pro(data)\n",
    "    elif data[\"authors_type\"]==\"english5\":\n",
    "        english5_pro(data)\n",
    "    elif data[\"authors_type\"]==\"english6\":\n",
    "        english6_pro(data)\n",
    "    elif data[\"authors_type\"]==\"english7\":\n",
    "        english7_pro(data)\n",
    "    elif data[\"authors_type\"]==\"english8\":\n",
    "        english8_pro(data)\n",
    "    elif data[\"authors_type\"]==\"english9\":\n",
    "        english9_pro(data)\n",
    "    elif data[\"authors_type\"]==\"english10\":\n",
    "        english10_pro(data)\n",
    "    elif data[\"authors_type\"]==\"english11\":\n",
    "        english11_pro(data)\n",
    "    elif data[\"authors_type\"]==\"english12\":\n",
    "        english12_pro(data)\n",
    "    elif data[\"authors_type\"]==\"english13\":\n",
    "        english13_pro(data)\n",
    "    elif data[\"authors_type\"]==\"english14\":\n",
    "        english14_pro(data)\n",
    "    elif data[\"authors_type\"]==\"english15\":\n",
    "        english15_pro(data)\n",
    "    elif data[\"authors_type\"]==\"lang0_0\":\n",
    "        lang0_0_pro(data)\n",
    "    elif data[\"authors_type\"]==\"lang0_1\":\n",
    "        lang0_1_pro(data)\n",
    "    elif data[\"authors_type\"]==\"lang0_2\":\n",
    "        lang0_2_pro(data)\n",
    "    elif data[\"authors_type\"]==\"lang0\":\n",
    "        lang0_pro(data)\n",
    "    elif data[\"authors_type\"]==\"lang1\":\n",
    "        lang1_pro(data)\n",
    "    elif data[\"authors_type\"]==\"lang2\":\n",
    "        lang2_pro(data)"
   ]
  },
  {
   "cell_type": "code",
   "execution_count": 37,
   "metadata": {
    "tags": [
     "开始进行作者列表的整理"
    ]
   },
   "outputs": [
    {
     "ename": "KeyError",
     "evalue": "'authors_type'",
     "output_type": "error",
     "traceback": [
      "\u001b[0;31m---------------------------------------------------------------------------\u001b[0m",
      "\u001b[0;31mTypeError\u001b[0m                                 Traceback (most recent call last)",
      "\u001b[0;32m~/anaconda3/lib/python3.7/site-packages/pandas/core/indexes/base.py\u001b[0m in \u001b[0;36mget_value\u001b[0;34m(self, series, key)\u001b[0m\n\u001b[1;32m   3123\u001b[0m             \u001b[0;32mtry\u001b[0m\u001b[0;34m:\u001b[0m\u001b[0;34m\u001b[0m\u001b[0m\n\u001b[0;32m-> 3124\u001b[0;31m                 \u001b[0;32mreturn\u001b[0m \u001b[0mlibindex\u001b[0m\u001b[0;34m.\u001b[0m\u001b[0mget_value_box\u001b[0m\u001b[0;34m(\u001b[0m\u001b[0ms\u001b[0m\u001b[0;34m,\u001b[0m \u001b[0mkey\u001b[0m\u001b[0;34m)\u001b[0m\u001b[0;34m\u001b[0m\u001b[0m\n\u001b[0m\u001b[1;32m   3125\u001b[0m             \u001b[0;32mexcept\u001b[0m \u001b[0mIndexError\u001b[0m\u001b[0;34m:\u001b[0m\u001b[0;34m\u001b[0m\u001b[0m\n",
      "\u001b[0;32mpandas/_libs/index.pyx\u001b[0m in \u001b[0;36mpandas._libs.index.get_value_box\u001b[0;34m()\u001b[0m\n",
      "\u001b[0;32mpandas/_libs/index.pyx\u001b[0m in \u001b[0;36mpandas._libs.index.get_value_box\u001b[0;34m()\u001b[0m\n",
      "\u001b[0;31mTypeError\u001b[0m: 'str' object cannot be interpreted as an integer",
      "\nDuring handling of the above exception, another exception occurred:\n",
      "\u001b[0;31mKeyError\u001b[0m                                  Traceback (most recent call last)",
      "\u001b[0;32m<ipython-input-37-8de8916b221e>\u001b[0m in \u001b[0;36m<module>\u001b[0;34m()\u001b[0m\n\u001b[1;32m      1\u001b[0m \u001b[0;32mfor\u001b[0m \u001b[0mi\u001b[0m \u001b[0;32min\u001b[0m \u001b[0mrange\u001b[0m\u001b[0;34m(\u001b[0m\u001b[0mlen\u001b[0m\u001b[0;34m(\u001b[0m\u001b[0mdf\u001b[0m\u001b[0;34m)\u001b[0m\u001b[0;34m)\u001b[0m\u001b[0;34m:\u001b[0m\u001b[0;34m\u001b[0m\u001b[0m\n\u001b[0;32m----> 2\u001b[0;31m     \u001b[0mauthors_pro\u001b[0m\u001b[0;34m(\u001b[0m\u001b[0mdf\u001b[0m\u001b[0;34m.\u001b[0m\u001b[0mloc\u001b[0m\u001b[0;34m[\u001b[0m\u001b[0mi\u001b[0m\u001b[0;34m+\u001b[0m\u001b[0;36m1\u001b[0m\u001b[0;34m]\u001b[0m\u001b[0;34m)\u001b[0m\u001b[0;34m\u001b[0m\u001b[0m\n\u001b[0m",
      "\u001b[0;32m<ipython-input-36-e59ac0c13c87>\u001b[0m in \u001b[0;36mauthors_pro\u001b[0;34m(data)\u001b[0m\n\u001b[1;32m      1\u001b[0m \u001b[0;32mdef\u001b[0m \u001b[0mauthors_pro\u001b[0m\u001b[0;34m(\u001b[0m\u001b[0mdata\u001b[0m\u001b[0;34m)\u001b[0m\u001b[0;34m:\u001b[0m\u001b[0;34m\u001b[0m\u001b[0m\n\u001b[0;32m----> 2\u001b[0;31m     \u001b[0;32mif\u001b[0m \u001b[0mdata\u001b[0m\u001b[0;34m[\u001b[0m\u001b[0;34m\"authors_type\"\u001b[0m\u001b[0;34m]\u001b[0m\u001b[0;34m==\u001b[0m\u001b[0;34m\"chinese0\"\u001b[0m\u001b[0;34m:\u001b[0m\u001b[0;31m#只包括空格的中文\u001b[0m\u001b[0;34m\u001b[0m\u001b[0m\n\u001b[0m\u001b[1;32m      3\u001b[0m         \u001b[0mchinese0_pro\u001b[0m\u001b[0;34m(\u001b[0m\u001b[0mdata\u001b[0m\u001b[0;34m)\u001b[0m\u001b[0;34m\u001b[0m\u001b[0m\n\u001b[1;32m      4\u001b[0m     \u001b[0;32melif\u001b[0m \u001b[0mdata\u001b[0m\u001b[0;34m[\u001b[0m\u001b[0;34m\"authors_type\"\u001b[0m\u001b[0;34m]\u001b[0m\u001b[0;34m==\u001b[0m\u001b[0;34m\"chinese1\"\u001b[0m\u001b[0;34m:\u001b[0m\u001b[0;31m#只包含符号;；,·，的中文\u001b[0m\u001b[0;34m\u001b[0m\u001b[0m\n\u001b[1;32m      5\u001b[0m         \u001b[0mchinese1_pro\u001b[0m\u001b[0;34m(\u001b[0m\u001b[0mdata\u001b[0m\u001b[0;34m)\u001b[0m\u001b[0;34m\u001b[0m\u001b[0m\n",
      "\u001b[0;32m~/anaconda3/lib/python3.7/site-packages/pandas/core/series.py\u001b[0m in \u001b[0;36m__getitem__\u001b[0;34m(self, key)\u001b[0m\n\u001b[1;32m    765\u001b[0m         \u001b[0mkey\u001b[0m \u001b[0;34m=\u001b[0m \u001b[0mcom\u001b[0m\u001b[0;34m.\u001b[0m\u001b[0m_apply_if_callable\u001b[0m\u001b[0;34m(\u001b[0m\u001b[0mkey\u001b[0m\u001b[0;34m,\u001b[0m \u001b[0mself\u001b[0m\u001b[0;34m)\u001b[0m\u001b[0;34m\u001b[0m\u001b[0m\n\u001b[1;32m    766\u001b[0m         \u001b[0;32mtry\u001b[0m\u001b[0;34m:\u001b[0m\u001b[0;34m\u001b[0m\u001b[0m\n\u001b[0;32m--> 767\u001b[0;31m             \u001b[0mresult\u001b[0m \u001b[0;34m=\u001b[0m \u001b[0mself\u001b[0m\u001b[0;34m.\u001b[0m\u001b[0mindex\u001b[0m\u001b[0;34m.\u001b[0m\u001b[0mget_value\u001b[0m\u001b[0;34m(\u001b[0m\u001b[0mself\u001b[0m\u001b[0;34m,\u001b[0m \u001b[0mkey\u001b[0m\u001b[0;34m)\u001b[0m\u001b[0;34m\u001b[0m\u001b[0m\n\u001b[0m\u001b[1;32m    768\u001b[0m \u001b[0;34m\u001b[0m\u001b[0m\n\u001b[1;32m    769\u001b[0m             \u001b[0;32mif\u001b[0m \u001b[0;32mnot\u001b[0m \u001b[0mis_scalar\u001b[0m\u001b[0;34m(\u001b[0m\u001b[0mresult\u001b[0m\u001b[0;34m)\u001b[0m\u001b[0;34m:\u001b[0m\u001b[0;34m\u001b[0m\u001b[0m\n",
      "\u001b[0;32m~/anaconda3/lib/python3.7/site-packages/pandas/core/indexes/base.py\u001b[0m in \u001b[0;36mget_value\u001b[0;34m(self, series, key)\u001b[0m\n\u001b[1;32m   3130\u001b[0m                     \u001b[0;32mraise\u001b[0m \u001b[0mInvalidIndexError\u001b[0m\u001b[0;34m(\u001b[0m\u001b[0mkey\u001b[0m\u001b[0;34m)\u001b[0m\u001b[0;34m\u001b[0m\u001b[0m\n\u001b[1;32m   3131\u001b[0m                 \u001b[0;32melse\u001b[0m\u001b[0;34m:\u001b[0m\u001b[0;34m\u001b[0m\u001b[0m\n\u001b[0;32m-> 3132\u001b[0;31m                     \u001b[0;32mraise\u001b[0m \u001b[0me1\u001b[0m\u001b[0;34m\u001b[0m\u001b[0m\n\u001b[0m\u001b[1;32m   3133\u001b[0m             \u001b[0;32mexcept\u001b[0m \u001b[0mException\u001b[0m\u001b[0;34m:\u001b[0m  \u001b[0;31m# pragma: no cover\u001b[0m\u001b[0;34m\u001b[0m\u001b[0m\n\u001b[1;32m   3134\u001b[0m                 \u001b[0;32mraise\u001b[0m \u001b[0me1\u001b[0m\u001b[0;34m\u001b[0m\u001b[0m\n",
      "\u001b[0;32m~/anaconda3/lib/python3.7/site-packages/pandas/core/indexes/base.py\u001b[0m in \u001b[0;36mget_value\u001b[0;34m(self, series, key)\u001b[0m\n\u001b[1;32m   3116\u001b[0m         \u001b[0;32mtry\u001b[0m\u001b[0;34m:\u001b[0m\u001b[0;34m\u001b[0m\u001b[0m\n\u001b[1;32m   3117\u001b[0m             return self._engine.get_value(s, k,\n\u001b[0;32m-> 3118\u001b[0;31m                                           tz=getattr(series.dtype, 'tz', None))\n\u001b[0m\u001b[1;32m   3119\u001b[0m         \u001b[0;32mexcept\u001b[0m \u001b[0mKeyError\u001b[0m \u001b[0;32mas\u001b[0m \u001b[0me1\u001b[0m\u001b[0;34m:\u001b[0m\u001b[0;34m\u001b[0m\u001b[0m\n\u001b[1;32m   3120\u001b[0m             \u001b[0;32mif\u001b[0m \u001b[0mlen\u001b[0m\u001b[0;34m(\u001b[0m\u001b[0mself\u001b[0m\u001b[0;34m)\u001b[0m \u001b[0;34m>\u001b[0m \u001b[0;36m0\u001b[0m \u001b[0;32mand\u001b[0m \u001b[0mself\u001b[0m\u001b[0;34m.\u001b[0m\u001b[0minferred_type\u001b[0m \u001b[0;32min\u001b[0m \u001b[0;34m[\u001b[0m\u001b[0;34m'integer'\u001b[0m\u001b[0;34m,\u001b[0m \u001b[0;34m'boolean'\u001b[0m\u001b[0;34m]\u001b[0m\u001b[0;34m:\u001b[0m\u001b[0;34m\u001b[0m\u001b[0m\n",
      "\u001b[0;32mpandas/_libs/index.pyx\u001b[0m in \u001b[0;36mpandas._libs.index.IndexEngine.get_value\u001b[0;34m()\u001b[0m\n",
      "\u001b[0;32mpandas/_libs/index.pyx\u001b[0m in \u001b[0;36mpandas._libs.index.IndexEngine.get_value\u001b[0;34m()\u001b[0m\n",
      "\u001b[0;32mpandas/_libs/index.pyx\u001b[0m in \u001b[0;36mpandas._libs.index.IndexEngine.get_loc\u001b[0;34m()\u001b[0m\n",
      "\u001b[0;32mpandas/_libs/hashtable_class_helper.pxi\u001b[0m in \u001b[0;36mpandas._libs.hashtable.PyObjectHashTable.get_item\u001b[0;34m()\u001b[0m\n",
      "\u001b[0;32mpandas/_libs/hashtable_class_helper.pxi\u001b[0m in \u001b[0;36mpandas._libs.hashtable.PyObjectHashTable.get_item\u001b[0;34m()\u001b[0m\n",
      "\u001b[0;31mKeyError\u001b[0m: 'authors_type'"
     ]
    }
   ],
   "source": [
    "for i in range(len(df)):\n",
    "    authors_pro(df.loc[i+1])"
   ]
  },
  {
   "cell_type": "markdown",
   "metadata": {},
   "source": [
    "############################################################################\n",
    "############################################################################\n",
    "############################################################################\n",
    "列表整理完毕 接下来根据列表作出关系列表"
   ]
  },
  {
   "cell_type": "code",
   "execution_count": 38,
   "metadata": {},
   "outputs": [],
   "source": [
    "authors_cp=pd.DataFrame(columns=[\"author_a\",\"author_b\",\"organization\"])"
   ]
  },
  {
   "cell_type": "code",
   "execution_count": 173,
   "metadata": {},
   "outputs": [],
   "source": [
    "stra=''\n",
    "strb=''"
   ]
  },
  {
   "cell_type": "code",
   "execution_count": 174,
   "metadata": {},
   "outputs": [
    {
     "data": {
      "text/plain": [
       "'丛爽'"
      ]
     },
     "execution_count": 174,
     "metadata": {},
     "output_type": "execute_result"
    }
   ],
   "source": [
    "authors_list.loc[1,\"authors\"]#.loc[df[\"organization\"]==\"南通大学\"]"
   ]
  },
  {
   "cell_type": "code",
   "execution_count": 39,
   "metadata": {},
   "outputs": [],
   "source": [
    "def cppd(str1,str2):\n",
    "    if cn(str1):#如果这次操作的是一个中文\n",
    "        if cn(str2):#str1和str2都是中文\n",
    "            if (str1.replace(' ','').replace('.',''))==(str2.replace(' ','').replace('.','')):\n",
    "                return True\n",
    "            else:\n",
    "                return False\n",
    "        else:\n",
    "            str1_py = py.get_pinyin(str1).upper().replace('-','')#全名拼音\n",
    "            str1_py_s = name(str1)#拼音名缩写\n",
    "            if (string_similar(fuhao(str1_py), fuhao(str2))>0.89) or (string_similar(fuhao(str1_py_s), fuhao(str2))>=0.8):\n",
    "                return True\n",
    "            else:\n",
    "                return False\n",
    "    else:#str1是一个英文\n",
    "        str1_py = py.get_pinyin(str1).upper().replace('-','')#全名拼音\n",
    "        str1_py_s = name(str1)#拼音名缩写\n",
    "        str2_py = py.get_pinyin(str2).upper().replace('-','')#全名拼音\n",
    "        str2_py_s = name(str2)\n",
    "        if cn(str2):#str2是中文:\n",
    "            if (string_similar(fuhao(str2_py), fuhao(str1_py))>0.89) or (string_similar(fuhao(str2_py_s), fuhao(str1_py))>=0.8):\n",
    "                return True\n",
    "            else:\n",
    "                return False\n",
    "        else:#两个都是英文\n",
    "            if (string_similar(fuhao(str2_py),fuhao(str1_py))>0.89):\n",
    "                return True\n",
    "            else:\n",
    "                return False"
   ]
  },
  {
   "cell_type": "code",
   "execution_count": 176,
   "metadata": {},
   "outputs": [
    {
     "data": {
      "text/plain": [
       "'中国科学技术大学'"
      ]
     },
     "execution_count": 176,
     "metadata": {},
     "output_type": "execute_result"
    }
   ],
   "source": [
    "authors_list.loc[1,'organization']"
   ]
  },
  {
   "cell_type": "code",
   "execution_count": 40,
   "metadata": {},
   "outputs": [],
   "source": [
    "def xunzhaolist(str1,school):#输入一个名字，返回其在list中的名字\n",
    "    for i in range(len(authors_list)):\n",
    "        if cppd(str1,authors_list.loc[i,'authors']) and authors_list.loc[i,'organization']==school:\n",
    "            return authors_list.loc[i,'authors']"
   ]
  },
  {
   "cell_type": "code",
   "execution_count": 41,
   "metadata": {},
   "outputs": [],
   "source": [
    "def cp_judge(str1,str2,cp_list,school):#判断可不可以替代\n",
    "    global authors_cp\n",
    "    global stra\n",
    "    global strb\n",
    "    res=False #res表示cp_list中有无现在的组合 False为无，True为有\n",
    "    if len(authors_cp)>0:\n",
    "        for i in range(len(authors_cp)):\n",
    "            if (school!=authors_cp.loc[i,\"organization\"]):\n",
    "                continue\n",
    "            else:\n",
    "                str_1=cp_list.loc[i][\"author_a\"]#str_1是关系列表中的第一个人\n",
    "                str_2=cp_list.loc[i][\"author_b\"]#str_2是关系列表中的第二个人\n",
    "                str1=xunzhaolist(str1,school)\n",
    "                str2=xunzhaolist(str2,school)\n",
    "                stra=str1\n",
    "                strb=str2\n",
    "                if ((cppd(str1,str_1) and cppd(str2,str_2)) or (cppd(str2,str_1) and cppd(str1,str_2))):#如果是真 说明可以替换 直接掠过\n",
    "                    res = True\n",
    "    return res"
   ]
  },
  {
   "cell_type": "code",
   "execution_count": 42,
   "metadata": {},
   "outputs": [],
   "source": [
    "def cp_add_list(data,lista):\n",
    "    global authors_list\n",
    "    global authors_cp\n",
    "    while ' ' in lista:\n",
    "        lista.remove(' ')\n",
    "    while '' in lista:\n",
    "        lista.remove('')\n",
    "    if len(lista)>1:\n",
    "        for i in range(len(lista)):\n",
    "            j=(len(lista)-1)\n",
    "            a=(j>i)\n",
    "            if a:\n",
    "                if not cp_judge(lista[i],lista[j],authors_cp,data[\"organization\"]):\n",
    "                    #print(f'list:{lista},中的i:{i} j{j} 通过了')\n",
    "                    authors_cp=authors_cp.append({\"author_a\":stra,\"author_b\":strb,\"organization\":data[\"organization\"]},ignore_index=True)\n",
    "            j-=1"
   ]
  },
  {
   "cell_type": "code",
   "execution_count": 43,
   "metadata": {},
   "outputs": [],
   "source": [
    "def chinese0_pro_add(data):\n",
    "    lista=data[\"authors\"].split(' ')\n",
    "    if '等' in lista:\n",
    "        del lista[-1]\n",
    "    for i in range(len(lista)):\n",
    "        if i < len(lista):\n",
    "            if len(lista[i])==1:\n",
    "                if len(lista[i+1])==1:\n",
    "                    lista[i]+=lista[i+1]\n",
    "                    del lista[i+1]\n",
    "    cp_add_list(data,lista)"
   ]
  },
  {
   "cell_type": "code",
   "execution_count": 44,
   "metadata": {},
   "outputs": [],
   "source": [
    "def chinese1_pro_add(data):\n",
    "    lista=data[\"authors\"].replace(' ','').replace('；',';').replace(',',';').replace('，',';').split(';')\n",
    "    cp_add_list(data,lista)"
   ]
  },
  {
   "cell_type": "code",
   "execution_count": 45,
   "metadata": {},
   "outputs": [],
   "source": [
    "def chinese2_pro_add(data):\n",
    "    lista=data[\"authors\"].replace('；',';').replace(',',';').replace('，',';').split(';')\n",
    "    cp_add_list(data,lista)"
   ]
  },
  {
   "cell_type": "code",
   "execution_count": 46,
   "metadata": {},
   "outputs": [],
   "source": [
    "def english0_1_pro_add(data):\n",
    "    lista=data[\"authors\"].split(';')\n",
    "    listb=[]\n",
    "    a=False\n",
    "    ak = 0\n",
    "    while '' in lista:\n",
    "        lista.remove('')\n",
    "    while ak<len(lista):\n",
    "        a=(len(lista[ak])<=5)\n",
    "        if a==True:#存在小于五个的情况\n",
    "            for i in range((int)(len(lista)/2)):\n",
    "                listb.append(lista[2*i-2]+lista[2*i-1]) \n",
    "                lista=listb\n",
    "                break\n",
    "        ak+=1   \n",
    "    cp_add_list(data,lista)"
   ]
  },
  {
   "cell_type": "code",
   "execution_count": 47,
   "metadata": {},
   "outputs": [],
   "source": [
    "def english2_pro_add(data):#只包含空格和逗号的英文\n",
    "    lista=data[\"authors\"].split('，')\n",
    "    listb=[]\n",
    "    a=False\n",
    "    ak = 0\n",
    "    while '' in lista:\n",
    "        lista.remove('')\n",
    "    while ak<len(lista):\n",
    "        a=(len(lista[ak])<=8)\n",
    "        if a==True:#存在小于五个的情况\n",
    "            for i in range((int)(len(lista)/2)):\n",
    "                listb.append(lista[2*i-2]+lista[2*i-1]) \n",
    "                lista=listb\n",
    "                break\n",
    "        ak+=1\n",
    "    cp_add_list(data,lista)"
   ]
  },
  {
   "cell_type": "code",
   "execution_count": 48,
   "metadata": {},
   "outputs": [],
   "source": [
    "def english3_pro_add(data):#只包括空格-;\n",
    "    lista=data[\"authors\"].split(';')\n",
    "    listb=[]\n",
    "    a=False\n",
    "    ak = 0\n",
    "    while '' in lista:\n",
    "        lista.remove('')\n",
    "    while ak<len(lista):\n",
    "        a=(len(lista[ak])<=5)\n",
    "        if a==True:#存在小于五个的情况\n",
    "            for i in range((int)(len(lista)/2)):\n",
    "                listb.append(lista[2*i-2]+lista[2*i-1]) \n",
    "                lista=listb\n",
    "                break\n",
    "        ak+=1\n",
    "    cp_add_list(data,lista)"
   ]
  },
  {
   "cell_type": "code",
   "execution_count": 49,
   "metadata": {},
   "outputs": [],
   "source": [
    "def english4_pro_add(data):\n",
    "    lista=data[\"authors\"].split(';')\n",
    "    cp_add_list(data,lista)"
   ]
  },
  {
   "cell_type": "markdown",
   "metadata": {},
   "source": [
    "2782：'Boxuan Yue, Qinghua Chi, Kangling Liu,;Jun Liang'\n",
    "2878：'Zhou;J.L.;Wang;X.;Zhang;J.F.;Wang;H.;Yang;G.H.'\n",
    "2879：Zhou;J. L.;Wang X;Zhang J.F. and Wang H.\n",
    "6480:'Lijun Liu, Shuming Cheng, Bo Qi, Zairong Xi,;Daoyi Dong'"
   ]
  },
  {
   "cell_type": "code",
   "execution_count": 50,
   "metadata": {},
   "outputs": [],
   "source": [
    "def english5_pro_add(data):\n",
    "    lista=data[\"authors\"].replace('.;',';').replace('.,',';').replace('.，',';').replace('and',';').split(';')\n",
    "    if 'Pand' in data[\"authors\"]:\n",
    "        lista=data[\"authors\"].replace('.;',';').replace('.,',';').replace('.，',';').split(';')\n",
    "    if data[\"authors\"] == df.loc[2782][\"authors\"] or data[\"authors\"] == df.loc[6480][\"authors\"]:\n",
    "        lista=data[\"authors\"].replace(',;',',').split(',')\n",
    "    elif data[\"authors\"] == df.loc[2878][\"authors\"]:\n",
    "        lista=data[\"authors\"].split('.;')\n",
    "    elif data[\"authors\"] == df.loc[2879][\"authors\"]:\n",
    "        lista=['Zhou;J. L.','Wang X','Zhang J.F.','Wang H.']\n",
    "    while '' in lista:\n",
    "        lista.remove('')\n",
    "    cp_add_list(data,lista)"
   ]
  },
  {
   "cell_type": "code",
   "execution_count": 51,
   "metadata": {},
   "outputs": [],
   "source": [
    "def english6_pro_add(data):\n",
    "    lista=data[\"authors\"].replace('and',';').split(';')\n",
    "    if 'Pand' in data[\"authors\"] or 'uand' in data[\"authors\"]:\n",
    "        lista=data[\"authors\"].split(';')\n",
    "    if ';' not in data[\"authors\"]:\n",
    "        if len(data[\"authors\"])<11:\n",
    "            lista=data[\"authors\"].split(';')\n",
    "        else:\n",
    "            lista=data[\"authors\"].split(',')\n",
    "    if data[\"authors\"] == df.loc[7132][\"authors\"]:\n",
    "        lista=data[\"authors\"].replace(',',';').split(';')\n",
    "    if data[\"authors\"] == df.loc[6241][\"authors\"]:\n",
    "        lista=data[\"authors\"].split(';')\n",
    "    cp_add_list(data,lista)"
   ]
  },
  {
   "cell_type": "code",
   "execution_count": 52,
   "metadata": {},
   "outputs": [],
   "source": [
    "def english7_pro_add(data):\n",
    "    lista=data[\"authors\"].split(';')\n",
    "    cp_add_list(data,lista)"
   ]
  },
  {
   "cell_type": "code",
   "execution_count": 53,
   "metadata": {},
   "outputs": [],
   "source": [
    "def english8_pro_add(data):\n",
    "    lista=data[\"authors\"].split(';')\n",
    "    listb=[]\n",
    "    a=False\n",
    "    ak = 0\n",
    "    while '' in lista:\n",
    "        lista.remove('')\n",
    "    while ak<len(lista):\n",
    "        a=(len(lista[ak])<5)\n",
    "        if '.' in lista[ak]:\n",
    "            a == False \n",
    "        if a==True:#存在小于五个的情况\n",
    "            \n",
    "            for i in range((int)(len(lista)/2)):\n",
    "                listb.append(lista[2*i-2]+lista[2*i-1]) \n",
    "                lista=listb\n",
    "                break\n",
    "        ak+=1\n",
    "    cp_add_list(data,lista)"
   ]
  },
  {
   "cell_type": "code",
   "execution_count": 54,
   "metadata": {},
   "outputs": [],
   "source": [
    "def english9_pro_add(data):\n",
    "    lista=data[\"authors\"].replace('and',',').split(',')\n",
    "    cp_add_list(data,lista)"
   ]
  },
  {
   "cell_type": "code",
   "execution_count": 55,
   "metadata": {},
   "outputs": [],
   "source": [
    "def english10_pro_add(data):\n",
    "    lista=data[\"authors\"].split('，')\n",
    "    cp_add_list(data,lista)"
   ]
  },
  {
   "cell_type": "code",
   "execution_count": 56,
   "metadata": {},
   "outputs": [],
   "source": [
    "def english11_pro_add(data):\n",
    "    lista=data[\"authors\"].split('，')\n",
    "    cp_add_list(data,lista)"
   ]
  },
  {
   "cell_type": "code",
   "execution_count": 57,
   "metadata": {},
   "outputs": [],
   "source": [
    "def english12_pro_add(data):\n",
    "    lista=data[\"authors\"].split(',')\n",
    "    cp_add_list(data,lista)"
   ]
  },
  {
   "cell_type": "code",
   "execution_count": 58,
   "metadata": {},
   "outputs": [],
   "source": [
    "def english13_pro_add(data):\n",
    "    lista=data[\"authors\"].split(';')\n",
    "    cp_add_list(data,lista)"
   ]
  },
  {
   "cell_type": "code",
   "execution_count": 59,
   "metadata": {},
   "outputs": [],
   "source": [
    "def english14_pro_add(data):\n",
    "    lista=data[\"authors\"].split('，')\n",
    "    cp_add_list(data,lista)"
   ]
  },
  {
   "cell_type": "code",
   "execution_count": 60,
   "metadata": {},
   "outputs": [],
   "source": [
    "def english15_pro_add(data):\n",
    "    lista=data[\"authors\"].split('，')\n",
    "    cp_add_list(data,lista)"
   ]
  },
  {
   "cell_type": "code",
   "execution_count": 61,
   "metadata": {},
   "outputs": [],
   "source": [
    "def lang0_0_pro_add(data):\n",
    "    lista=data[\"authors\"].replace('；',';').split(';')\n",
    "    if data[\"authors\"] == '赵春晖 Wei Wang':\n",
    "        lista=['赵春晖', 'Wei Wang']\n",
    "    if data[\"authors\"] == '祝乔;Yin;Yi-Xin;Cheng;Han-Qing;Chen;Xian-Zhong':\n",
    "        lista=['祝乔','Yin Yi-Xin','Cheng Han-Qing','Chen;Xian-Zhong']\n",
    "    cp_add_list(data,lista)"
   ]
  },
  {
   "cell_type": "code",
   "execution_count": 62,
   "metadata": {},
   "outputs": [],
   "source": [
    "def lang0_1_pro_add(data):\n",
    "    lista=data[\"authors\"].split('，')\n",
    "    cp_add_list(data,lista)"
   ]
  },
  {
   "cell_type": "code",
   "execution_count": 63,
   "metadata": {},
   "outputs": [],
   "source": [
    "def lang0_2_pro_add(data):\n",
    "    lista=data[\"authors\"].replace(',',';').split(';')\n",
    "    cp_add_list(data,lista)"
   ]
  },
  {
   "cell_type": "code",
   "execution_count": 64,
   "metadata": {},
   "outputs": [],
   "source": [
    "def lang0_pro_add(data):\n",
    "    lista=data[\"authors\"].replace('第一通讯作者','').split(';')\n",
    "    cp_add_list(data,lista)"
   ]
  },
  {
   "cell_type": "code",
   "execution_count": 65,
   "metadata": {},
   "outputs": [],
   "source": [
    "def lang1_pro_add(data):\n",
    "    lista=data[\"authors\"].replace('li&','').split(';')\n",
    "    if data[\"authors\"] == 'Cheng;Y、Mao;JF、Wu;AH 、 Wu;GQ;Mao Jingfeng;Wu Aihua;Wu Guoqing':\n",
    "        lista=['ChengY','MaoJF','WuAH','WuGQ','Mao Jingfeng','Wu Aihua','Wu Guoqing']\n",
    "    cp_add_list(data,lista)"
   ]
  },
  {
   "cell_type": "code",
   "execution_count": 66,
   "metadata": {},
   "outputs": [],
   "source": [
    "def lang2_pro_add(data):\n",
    "    if data[\"authors\"] == df.loc[4175,\"authors\"]:\n",
    "        lista=['Yajun Zhang','Y. Jia','T. Chai','D. Wang','W. Dai','J. Fu']\n",
    "    if data[\"authors\"] == df.loc[4176,\"authors\"]:\n",
    "        lista=['Yajun Zhang','T. Chai','H. Wang','D. Wang','X. Chen']\n",
    "    if data[\"authors\"] == df.loc[4556,\"authors\"]:\n",
    "        lista=['Xiaokun Dai','Yang Song','Mira Schüller','Dieter Schramm']\n",
    "    if data[\"authors\"] == df.loc[4612,\"authors\"]:\n",
    "        lista=['Xianzhen Zhang','Zuohua Liu','Hui Peng','Xianmin Zhan']\n",
    "    if data[\"authors\"] == df.loc[4617,\"authors\"]:\n",
    "        lista=['Xianmin Zhang','Praveen Agarwal','Zuohua Liu','Hui Peng']\n",
    "    if (data[\"authors\"] == df.loc[5924,\"authors\"]) or (data[\"authors\"] == df.loc[5925,\"authors\"]):\n",
    "        lista=['Qi Lü']\n",
    "    if data[\"authors\"] == df.loc[6808,\"authors\"]:\n",
    "        lista=['Kwon,Joseph Sang-Il','Nayhouse,Michael','Orkoulas,Gerassimos','Ni, Dong','Christofides, Panagiotis D.']\n",
    "    if data[\"authors\"] == df.loc[8366,\"authors\"]:\n",
    "        lista=['Crose, Marquis','Kwon, Joseph Sang-Il','Nayhouse, Michael','Ni, Dong','Christofides, Panagiotis D.']    \n",
    "    add_list(data,lista)"
   ]
  },
  {
   "cell_type": "code",
   "execution_count": 67,
   "metadata": {},
   "outputs": [],
   "source": [
    "def english0and1_pro_add(data):\n",
    "    lista=data[\"authors\"].split(';')\n",
    "    cp_add_list(data,lista)"
   ]
  },
  {
   "cell_type": "code",
   "execution_count": 68,
   "metadata": {
    "tags": [
     "整理作者关系"
    ]
   },
   "outputs": [],
   "source": [
    "def authors_cp_list(data):\n",
    "    #if data[\"authors_type\"]==\"chinese0\":#只包括空格的中文\n",
    "    #    chinese0_pro_add(data)\n",
    "    if data[\"authors_type\"]==\"chinese1\":#只包含符号;；,·，的中文\n",
    "        chinese1_pro_add(data)\n",
    "    elif data[\"authors_type\"]==\"chinese2\":#只包含符号;；,·，.的中文\n",
    "        chinese2_pro_add(data)\n",
    "    elif data[\"authors_type\"]==\"english0\":#只包括空格的英文\n",
    "        english0and1_pro_add(data)\n",
    "    elif data[\"authors_type\"]==\"english0_1\":#只包括空格和分号的英文\n",
    "        english0_1_pro_add(data)\n",
    "    elif data[\"authors_type\"]==\"english1\":\n",
    "        english0and1_pro_add(data)\n",
    "    elif data[\"authors_type\"]==\"english2\":\n",
    "        english2_pro_add(data)\n",
    "    elif data[\"authors_type\"]==\"english3\":\n",
    "        english3_pro_add(data)\n",
    "    elif data[\"authors_type\"]==\"english4\":\n",
    "        english4_pro_add(data)\n",
    "    elif data[\"authors_type\"]==\"english5\":\n",
    "        english5_pro_add(data)\n",
    "    elif data[\"authors_type\"]==\"english6\":\n",
    "        english6_pro_add(data)\n",
    "    elif data[\"authors_type\"]==\"english7\":\n",
    "        english7_pro_add(data)\n",
    "    elif data[\"authors_type\"]==\"english8\":\n",
    "        english8_pro_add(data)\n",
    "    elif data[\"authors_type\"]==\"english9\":\n",
    "        english9_pro_add(data)\n",
    "    elif data[\"authors_type\"]==\"english10\":\n",
    "        english10_pro_add(data)\n",
    "    elif data[\"authors_type\"]==\"english11\":\n",
    "        english11_pro_add(data)\n",
    "    elif data[\"authors_type\"]==\"english12\":\n",
    "        english12_pro_add(data)\n",
    "    elif data[\"authors_type\"]==\"english13\":\n",
    "        english13_pro_add(data)\n",
    "    elif data[\"authors_type\"]==\"english14\":\n",
    "        english14_pro_add(data)\n",
    "    elif data[\"authors_type\"]==\"english15\":\n",
    "        english15_pro_add(data)\n",
    "    elif data[\"authors_type\"]==\"lang0_0\":\n",
    "        lang0_0_pro_add(data)\n",
    "    elif data[\"authors_type\"]==\"lang0_1\":\n",
    "        lang0_1_pro_add(data)\n",
    "    elif data[\"authors_type\"]==\"lang0_2\":\n",
    "        lang0_2_pro_add(data)\n",
    "    elif data[\"authors_type\"]==\"lang0\":\n",
    "        lang0_pro_add(data)\n",
    "    elif data[\"authors_type\"]==\"lang1\":\n",
    "        lang1_pro_add(data)\n",
    "    elif data[\"authors_type\"]==\"lang2\":\n",
    "        lang2_pro_add(data)"
   ]
  },
  {
   "cell_type": "code",
   "execution_count": 69,
   "metadata": {},
   "outputs": [],
   "source": [
    "authors_cp=pd.DataFrame(columns=[\"author_a\",\"author_b\",\"organization\"])"
   ]
  },
  {
   "cell_type": "code",
   "execution_count": 70,
   "metadata": {},
   "outputs": [
    {
     "name": "stdout",
     "output_type": "stream",
     "text": [
      "0\n"
     ]
    },
    {
     "ename": "KeyError",
     "evalue": "'authors_type'",
     "output_type": "error",
     "traceback": [
      "\u001b[0;31m---------------------------------------------------------------------------\u001b[0m",
      "\u001b[0;31mTypeError\u001b[0m                                 Traceback (most recent call last)",
      "\u001b[0;32m~/anaconda3/lib/python3.7/site-packages/pandas/core/indexes/base.py\u001b[0m in \u001b[0;36mget_value\u001b[0;34m(self, series, key)\u001b[0m\n\u001b[1;32m   3123\u001b[0m             \u001b[0;32mtry\u001b[0m\u001b[0;34m:\u001b[0m\u001b[0;34m\u001b[0m\u001b[0m\n\u001b[0;32m-> 3124\u001b[0;31m                 \u001b[0;32mreturn\u001b[0m \u001b[0mlibindex\u001b[0m\u001b[0;34m.\u001b[0m\u001b[0mget_value_box\u001b[0m\u001b[0;34m(\u001b[0m\u001b[0ms\u001b[0m\u001b[0;34m,\u001b[0m \u001b[0mkey\u001b[0m\u001b[0;34m)\u001b[0m\u001b[0;34m\u001b[0m\u001b[0m\n\u001b[0m\u001b[1;32m   3125\u001b[0m             \u001b[0;32mexcept\u001b[0m \u001b[0mIndexError\u001b[0m\u001b[0;34m:\u001b[0m\u001b[0;34m\u001b[0m\u001b[0m\n",
      "\u001b[0;32mpandas/_libs/index.pyx\u001b[0m in \u001b[0;36mpandas._libs.index.get_value_box\u001b[0;34m()\u001b[0m\n",
      "\u001b[0;32mpandas/_libs/index.pyx\u001b[0m in \u001b[0;36mpandas._libs.index.get_value_box\u001b[0;34m()\u001b[0m\n",
      "\u001b[0;31mTypeError\u001b[0m: 'str' object cannot be interpreted as an integer",
      "\nDuring handling of the above exception, another exception occurred:\n",
      "\u001b[0;31mKeyError\u001b[0m                                  Traceback (most recent call last)",
      "\u001b[0;32m<ipython-input-70-af191302e5cc>\u001b[0m in \u001b[0;36m<module>\u001b[0;34m()\u001b[0m\n\u001b[1;32m      1\u001b[0m \u001b[0;32mfor\u001b[0m \u001b[0mi\u001b[0m \u001b[0;32min\u001b[0m \u001b[0mrange\u001b[0m\u001b[0;34m(\u001b[0m\u001b[0mlen\u001b[0m\u001b[0;34m(\u001b[0m\u001b[0mdf\u001b[0m\u001b[0;34m)\u001b[0m\u001b[0;34m)\u001b[0m\u001b[0;34m:\u001b[0m\u001b[0;34m\u001b[0m\u001b[0m\n\u001b[1;32m      2\u001b[0m     \u001b[0mprint\u001b[0m\u001b[0;34m(\u001b[0m\u001b[0mi\u001b[0m\u001b[0;34m)\u001b[0m\u001b[0;34m\u001b[0m\u001b[0m\n\u001b[0;32m----> 3\u001b[0;31m     \u001b[0mauthors_cp_list\u001b[0m\u001b[0;34m(\u001b[0m\u001b[0mdf\u001b[0m\u001b[0;34m.\u001b[0m\u001b[0mloc\u001b[0m\u001b[0;34m[\u001b[0m\u001b[0mi\u001b[0m\u001b[0;34m+\u001b[0m\u001b[0;36m1\u001b[0m\u001b[0;34m]\u001b[0m\u001b[0;34m)\u001b[0m\u001b[0;34m\u001b[0m\u001b[0m\n\u001b[0m",
      "\u001b[0;32m<ipython-input-68-6acfc7d61de5>\u001b[0m in \u001b[0;36mauthors_cp_list\u001b[0;34m(data)\u001b[0m\n\u001b[1;32m      2\u001b[0m     \u001b[0;31m#if data[\"authors_type\"]==\"chinese0\":#只包括空格的中文\u001b[0m\u001b[0;34m\u001b[0m\u001b[0;34m\u001b[0m\u001b[0m\n\u001b[1;32m      3\u001b[0m     \u001b[0;31m#    chinese0_pro_add(data)\u001b[0m\u001b[0;34m\u001b[0m\u001b[0;34m\u001b[0m\u001b[0m\n\u001b[0;32m----> 4\u001b[0;31m     \u001b[0;32mif\u001b[0m \u001b[0mdata\u001b[0m\u001b[0;34m[\u001b[0m\u001b[0;34m\"authors_type\"\u001b[0m\u001b[0;34m]\u001b[0m\u001b[0;34m==\u001b[0m\u001b[0;34m\"chinese1\"\u001b[0m\u001b[0;34m:\u001b[0m\u001b[0;31m#只包含符号;；,·，的中文\u001b[0m\u001b[0;34m\u001b[0m\u001b[0m\n\u001b[0m\u001b[1;32m      5\u001b[0m         \u001b[0mchinese1_pro_add\u001b[0m\u001b[0;34m(\u001b[0m\u001b[0mdata\u001b[0m\u001b[0;34m)\u001b[0m\u001b[0;34m\u001b[0m\u001b[0m\n\u001b[1;32m      6\u001b[0m     \u001b[0;32melif\u001b[0m \u001b[0mdata\u001b[0m\u001b[0;34m[\u001b[0m\u001b[0;34m\"authors_type\"\u001b[0m\u001b[0;34m]\u001b[0m\u001b[0;34m==\u001b[0m\u001b[0;34m\"chinese2\"\u001b[0m\u001b[0;34m:\u001b[0m\u001b[0;31m#只包含符号;；,·，.的中文\u001b[0m\u001b[0;34m\u001b[0m\u001b[0m\n",
      "\u001b[0;32m~/anaconda3/lib/python3.7/site-packages/pandas/core/series.py\u001b[0m in \u001b[0;36m__getitem__\u001b[0;34m(self, key)\u001b[0m\n\u001b[1;32m    765\u001b[0m         \u001b[0mkey\u001b[0m \u001b[0;34m=\u001b[0m \u001b[0mcom\u001b[0m\u001b[0;34m.\u001b[0m\u001b[0m_apply_if_callable\u001b[0m\u001b[0;34m(\u001b[0m\u001b[0mkey\u001b[0m\u001b[0;34m,\u001b[0m \u001b[0mself\u001b[0m\u001b[0;34m)\u001b[0m\u001b[0;34m\u001b[0m\u001b[0m\n\u001b[1;32m    766\u001b[0m         \u001b[0;32mtry\u001b[0m\u001b[0;34m:\u001b[0m\u001b[0;34m\u001b[0m\u001b[0m\n\u001b[0;32m--> 767\u001b[0;31m             \u001b[0mresult\u001b[0m \u001b[0;34m=\u001b[0m \u001b[0mself\u001b[0m\u001b[0;34m.\u001b[0m\u001b[0mindex\u001b[0m\u001b[0;34m.\u001b[0m\u001b[0mget_value\u001b[0m\u001b[0;34m(\u001b[0m\u001b[0mself\u001b[0m\u001b[0;34m,\u001b[0m \u001b[0mkey\u001b[0m\u001b[0;34m)\u001b[0m\u001b[0;34m\u001b[0m\u001b[0m\n\u001b[0m\u001b[1;32m    768\u001b[0m \u001b[0;34m\u001b[0m\u001b[0m\n\u001b[1;32m    769\u001b[0m             \u001b[0;32mif\u001b[0m \u001b[0;32mnot\u001b[0m \u001b[0mis_scalar\u001b[0m\u001b[0;34m(\u001b[0m\u001b[0mresult\u001b[0m\u001b[0;34m)\u001b[0m\u001b[0;34m:\u001b[0m\u001b[0;34m\u001b[0m\u001b[0m\n",
      "\u001b[0;32m~/anaconda3/lib/python3.7/site-packages/pandas/core/indexes/base.py\u001b[0m in \u001b[0;36mget_value\u001b[0;34m(self, series, key)\u001b[0m\n\u001b[1;32m   3130\u001b[0m                     \u001b[0;32mraise\u001b[0m \u001b[0mInvalidIndexError\u001b[0m\u001b[0;34m(\u001b[0m\u001b[0mkey\u001b[0m\u001b[0;34m)\u001b[0m\u001b[0;34m\u001b[0m\u001b[0m\n\u001b[1;32m   3131\u001b[0m                 \u001b[0;32melse\u001b[0m\u001b[0;34m:\u001b[0m\u001b[0;34m\u001b[0m\u001b[0m\n\u001b[0;32m-> 3132\u001b[0;31m                     \u001b[0;32mraise\u001b[0m \u001b[0me1\u001b[0m\u001b[0;34m\u001b[0m\u001b[0m\n\u001b[0m\u001b[1;32m   3133\u001b[0m             \u001b[0;32mexcept\u001b[0m \u001b[0mException\u001b[0m\u001b[0;34m:\u001b[0m  \u001b[0;31m# pragma: no cover\u001b[0m\u001b[0;34m\u001b[0m\u001b[0m\n\u001b[1;32m   3134\u001b[0m                 \u001b[0;32mraise\u001b[0m \u001b[0me1\u001b[0m\u001b[0;34m\u001b[0m\u001b[0m\n",
      "\u001b[0;32m~/anaconda3/lib/python3.7/site-packages/pandas/core/indexes/base.py\u001b[0m in \u001b[0;36mget_value\u001b[0;34m(self, series, key)\u001b[0m\n\u001b[1;32m   3116\u001b[0m         \u001b[0;32mtry\u001b[0m\u001b[0;34m:\u001b[0m\u001b[0;34m\u001b[0m\u001b[0m\n\u001b[1;32m   3117\u001b[0m             return self._engine.get_value(s, k,\n\u001b[0;32m-> 3118\u001b[0;31m                                           tz=getattr(series.dtype, 'tz', None))\n\u001b[0m\u001b[1;32m   3119\u001b[0m         \u001b[0;32mexcept\u001b[0m \u001b[0mKeyError\u001b[0m \u001b[0;32mas\u001b[0m \u001b[0me1\u001b[0m\u001b[0;34m:\u001b[0m\u001b[0;34m\u001b[0m\u001b[0m\n\u001b[1;32m   3120\u001b[0m             \u001b[0;32mif\u001b[0m \u001b[0mlen\u001b[0m\u001b[0;34m(\u001b[0m\u001b[0mself\u001b[0m\u001b[0;34m)\u001b[0m \u001b[0;34m>\u001b[0m \u001b[0;36m0\u001b[0m \u001b[0;32mand\u001b[0m \u001b[0mself\u001b[0m\u001b[0;34m.\u001b[0m\u001b[0minferred_type\u001b[0m \u001b[0;32min\u001b[0m \u001b[0;34m[\u001b[0m\u001b[0;34m'integer'\u001b[0m\u001b[0;34m,\u001b[0m \u001b[0;34m'boolean'\u001b[0m\u001b[0;34m]\u001b[0m\u001b[0;34m:\u001b[0m\u001b[0;34m\u001b[0m\u001b[0m\n",
      "\u001b[0;32mpandas/_libs/index.pyx\u001b[0m in \u001b[0;36mpandas._libs.index.IndexEngine.get_value\u001b[0;34m()\u001b[0m\n",
      "\u001b[0;32mpandas/_libs/index.pyx\u001b[0m in \u001b[0;36mpandas._libs.index.IndexEngine.get_value\u001b[0;34m()\u001b[0m\n",
      "\u001b[0;32mpandas/_libs/index.pyx\u001b[0m in \u001b[0;36mpandas._libs.index.IndexEngine.get_loc\u001b[0;34m()\u001b[0m\n",
      "\u001b[0;32mpandas/_libs/hashtable_class_helper.pxi\u001b[0m in \u001b[0;36mpandas._libs.hashtable.PyObjectHashTable.get_item\u001b[0;34m()\u001b[0m\n",
      "\u001b[0;32mpandas/_libs/hashtable_class_helper.pxi\u001b[0m in \u001b[0;36mpandas._libs.hashtable.PyObjectHashTable.get_item\u001b[0;34m()\u001b[0m\n",
      "\u001b[0;31mKeyError\u001b[0m: 'authors_type'"
     ]
    }
   ],
   "source": [
    "for i in range(len(df)):\n",
    "    print(i)\n",
    "    authors_cp_list(df.loc[i+1])"
   ]
  },
  {
   "cell_type": "code",
   "execution_count": 71,
   "metadata": {},
   "outputs": [
    {
     "data": {
      "text/html": [
       "<div>\n",
       "<style scoped>\n",
       "    .dataframe tbody tr th:only-of-type {\n",
       "        vertical-align: middle;\n",
       "    }\n",
       "\n",
       "    .dataframe tbody tr th {\n",
       "        vertical-align: top;\n",
       "    }\n",
       "\n",
       "    .dataframe thead th {\n",
       "        text-align: right;\n",
       "    }\n",
       "</style>\n",
       "<table border=\"1\" class=\"dataframe\">\n",
       "  <thead>\n",
       "    <tr style=\"text-align: right;\">\n",
       "      <th></th>\n",
       "      <th>author_a</th>\n",
       "      <th>author_b</th>\n",
       "      <th>organization</th>\n",
       "    </tr>\n",
       "  </thead>\n",
       "  <tbody>\n",
       "  </tbody>\n",
       "</table>\n",
       "</div>"
      ],
      "text/plain": [
       "Empty DataFrame\n",
       "Columns: [author_a, author_b, organization]\n",
       "Index: []"
      ]
     },
     "execution_count": 71,
     "metadata": {},
     "output_type": "execute_result"
    }
   ],
   "source": [
    "authors_cp"
   ]
  },
  {
   "cell_type": "code",
   "execution_count": 72,
   "metadata": {},
   "outputs": [],
   "source": [
    "authors_cp.to_excel('作者关系.xlsx',header=True)"
   ]
  },
  {
   "cell_type": "code",
   "execution_count": 73,
   "metadata": {},
   "outputs": [
    {
     "ename": "NameError",
     "evalue": "name 'authors_list' is not defined",
     "output_type": "error",
     "traceback": [
      "\u001b[0;31m---------------------------------------------------------------------------\u001b[0m",
      "\u001b[0;31mNameError\u001b[0m                                 Traceback (most recent call last)",
      "\u001b[0;32m<ipython-input-73-dc293ae37c9c>\u001b[0m in \u001b[0;36m<module>\u001b[0;34m()\u001b[0m\n\u001b[0;32m----> 1\u001b[0;31m \u001b[0mauthors_list\u001b[0m\u001b[0;34m.\u001b[0m\u001b[0mto_excel\u001b[0m\u001b[0;34m(\u001b[0m\u001b[0;34m'作者列表.xlsx'\u001b[0m\u001b[0;34m,\u001b[0m\u001b[0mheader\u001b[0m\u001b[0;34m=\u001b[0m\u001b[0;32mTrue\u001b[0m\u001b[0;34m)\u001b[0m\u001b[0;34m\u001b[0m\u001b[0m\n\u001b[0m",
      "\u001b[0;31mNameError\u001b[0m: name 'authors_list' is not defined"
     ]
    }
   ],
   "source": [
    "authors_list.to_excel('作者列表.xlsx',header=True)"
   ]
  },
  {
   "cell_type": "markdown",
   "metadata": {},
   "source": [
    "作者关系处理完毕\n",
    "==============================================================================\n",
    "================================================================================\n",
    "============================================================================="
   ]
  },
  {
   "cell_type": "code",
   "execution_count": 74,
   "metadata": {},
   "outputs": [],
   "source": [
    "authors_cp=pd.read_excel('./作者关系.xlsx')"
   ]
  },
  {
   "cell_type": "code",
   "execution_count": 75,
   "metadata": {},
   "outputs": [
    {
     "ename": "FileNotFoundError",
     "evalue": "[Errno 2] No such file or directory: './作者列表.xlsx'",
     "output_type": "error",
     "traceback": [
      "\u001b[0;31m---------------------------------------------------------------------------\u001b[0m",
      "\u001b[0;31mFileNotFoundError\u001b[0m                         Traceback (most recent call last)",
      "\u001b[0;32m<ipython-input-75-5d9240b681fd>\u001b[0m in \u001b[0;36m<module>\u001b[0;34m()\u001b[0m\n\u001b[0;32m----> 1\u001b[0;31m \u001b[0mauthors_list\u001b[0m\u001b[0;34m=\u001b[0m\u001b[0mpd\u001b[0m\u001b[0;34m.\u001b[0m\u001b[0mread_excel\u001b[0m\u001b[0;34m(\u001b[0m\u001b[0;34m'./作者列表.xlsx'\u001b[0m\u001b[0;34m)\u001b[0m\u001b[0;34m\u001b[0m\u001b[0m\n\u001b[0m",
      "\u001b[0;32m~/anaconda3/lib/python3.7/site-packages/pandas/util/_decorators.py\u001b[0m in \u001b[0;36mwrapper\u001b[0;34m(*args, **kwargs)\u001b[0m\n\u001b[1;32m    176\u001b[0m                 \u001b[0;32melse\u001b[0m\u001b[0;34m:\u001b[0m\u001b[0;34m\u001b[0m\u001b[0m\n\u001b[1;32m    177\u001b[0m                     \u001b[0mkwargs\u001b[0m\u001b[0;34m[\u001b[0m\u001b[0mnew_arg_name\u001b[0m\u001b[0;34m]\u001b[0m \u001b[0;34m=\u001b[0m \u001b[0mnew_arg_value\u001b[0m\u001b[0;34m\u001b[0m\u001b[0m\n\u001b[0;32m--> 178\u001b[0;31m             \u001b[0;32mreturn\u001b[0m \u001b[0mfunc\u001b[0m\u001b[0;34m(\u001b[0m\u001b[0;34m*\u001b[0m\u001b[0margs\u001b[0m\u001b[0;34m,\u001b[0m \u001b[0;34m**\u001b[0m\u001b[0mkwargs\u001b[0m\u001b[0;34m)\u001b[0m\u001b[0;34m\u001b[0m\u001b[0m\n\u001b[0m\u001b[1;32m    179\u001b[0m         \u001b[0;32mreturn\u001b[0m \u001b[0mwrapper\u001b[0m\u001b[0;34m\u001b[0m\u001b[0m\n\u001b[1;32m    180\u001b[0m     \u001b[0;32mreturn\u001b[0m \u001b[0m_deprecate_kwarg\u001b[0m\u001b[0;34m\u001b[0m\u001b[0m\n",
      "\u001b[0;32m~/anaconda3/lib/python3.7/site-packages/pandas/util/_decorators.py\u001b[0m in \u001b[0;36mwrapper\u001b[0;34m(*args, **kwargs)\u001b[0m\n\u001b[1;32m    176\u001b[0m                 \u001b[0;32melse\u001b[0m\u001b[0;34m:\u001b[0m\u001b[0;34m\u001b[0m\u001b[0m\n\u001b[1;32m    177\u001b[0m                     \u001b[0mkwargs\u001b[0m\u001b[0;34m[\u001b[0m\u001b[0mnew_arg_name\u001b[0m\u001b[0;34m]\u001b[0m \u001b[0;34m=\u001b[0m \u001b[0mnew_arg_value\u001b[0m\u001b[0;34m\u001b[0m\u001b[0m\n\u001b[0;32m--> 178\u001b[0;31m             \u001b[0;32mreturn\u001b[0m \u001b[0mfunc\u001b[0m\u001b[0;34m(\u001b[0m\u001b[0;34m*\u001b[0m\u001b[0margs\u001b[0m\u001b[0;34m,\u001b[0m \u001b[0;34m**\u001b[0m\u001b[0mkwargs\u001b[0m\u001b[0;34m)\u001b[0m\u001b[0;34m\u001b[0m\u001b[0m\n\u001b[0m\u001b[1;32m    179\u001b[0m         \u001b[0;32mreturn\u001b[0m \u001b[0mwrapper\u001b[0m\u001b[0;34m\u001b[0m\u001b[0m\n\u001b[1;32m    180\u001b[0m     \u001b[0;32mreturn\u001b[0m \u001b[0m_deprecate_kwarg\u001b[0m\u001b[0;34m\u001b[0m\u001b[0m\n",
      "\u001b[0;32m~/anaconda3/lib/python3.7/site-packages/pandas/io/excel.py\u001b[0m in \u001b[0;36mread_excel\u001b[0;34m(io, sheet_name, header, names, index_col, usecols, squeeze, dtype, engine, converters, true_values, false_values, skiprows, nrows, na_values, parse_dates, date_parser, thousands, comment, skipfooter, convert_float, **kwds)\u001b[0m\n\u001b[1;32m    305\u001b[0m \u001b[0;34m\u001b[0m\u001b[0m\n\u001b[1;32m    306\u001b[0m     \u001b[0;32mif\u001b[0m \u001b[0;32mnot\u001b[0m \u001b[0misinstance\u001b[0m\u001b[0;34m(\u001b[0m\u001b[0mio\u001b[0m\u001b[0;34m,\u001b[0m \u001b[0mExcelFile\u001b[0m\u001b[0;34m)\u001b[0m\u001b[0;34m:\u001b[0m\u001b[0;34m\u001b[0m\u001b[0m\n\u001b[0;32m--> 307\u001b[0;31m         \u001b[0mio\u001b[0m \u001b[0;34m=\u001b[0m \u001b[0mExcelFile\u001b[0m\u001b[0;34m(\u001b[0m\u001b[0mio\u001b[0m\u001b[0;34m,\u001b[0m \u001b[0mengine\u001b[0m\u001b[0;34m=\u001b[0m\u001b[0mengine\u001b[0m\u001b[0;34m)\u001b[0m\u001b[0;34m\u001b[0m\u001b[0m\n\u001b[0m\u001b[1;32m    308\u001b[0m \u001b[0;34m\u001b[0m\u001b[0m\n\u001b[1;32m    309\u001b[0m     return io.parse(\n",
      "\u001b[0;32m~/anaconda3/lib/python3.7/site-packages/pandas/io/excel.py\u001b[0m in \u001b[0;36m__init__\u001b[0;34m(self, io, **kwds)\u001b[0m\n\u001b[1;32m    392\u001b[0m             \u001b[0mself\u001b[0m\u001b[0;34m.\u001b[0m\u001b[0mbook\u001b[0m \u001b[0;34m=\u001b[0m \u001b[0mxlrd\u001b[0m\u001b[0;34m.\u001b[0m\u001b[0mopen_workbook\u001b[0m\u001b[0;34m(\u001b[0m\u001b[0mfile_contents\u001b[0m\u001b[0;34m=\u001b[0m\u001b[0mdata\u001b[0m\u001b[0;34m)\u001b[0m\u001b[0;34m\u001b[0m\u001b[0m\n\u001b[1;32m    393\u001b[0m         \u001b[0;32melif\u001b[0m \u001b[0misinstance\u001b[0m\u001b[0;34m(\u001b[0m\u001b[0mself\u001b[0m\u001b[0;34m.\u001b[0m\u001b[0m_io\u001b[0m\u001b[0;34m,\u001b[0m \u001b[0mcompat\u001b[0m\u001b[0;34m.\u001b[0m\u001b[0mstring_types\u001b[0m\u001b[0;34m)\u001b[0m\u001b[0;34m:\u001b[0m\u001b[0;34m\u001b[0m\u001b[0m\n\u001b[0;32m--> 394\u001b[0;31m             \u001b[0mself\u001b[0m\u001b[0;34m.\u001b[0m\u001b[0mbook\u001b[0m \u001b[0;34m=\u001b[0m \u001b[0mxlrd\u001b[0m\u001b[0;34m.\u001b[0m\u001b[0mopen_workbook\u001b[0m\u001b[0;34m(\u001b[0m\u001b[0mself\u001b[0m\u001b[0;34m.\u001b[0m\u001b[0m_io\u001b[0m\u001b[0;34m)\u001b[0m\u001b[0;34m\u001b[0m\u001b[0m\n\u001b[0m\u001b[1;32m    395\u001b[0m         \u001b[0;32melse\u001b[0m\u001b[0;34m:\u001b[0m\u001b[0;34m\u001b[0m\u001b[0m\n\u001b[1;32m    396\u001b[0m             raise ValueError('Must explicitly set engine if not passing in'\n",
      "\u001b[0;32m~/anaconda3/lib/python3.7/site-packages/xlrd/__init__.py\u001b[0m in \u001b[0;36mopen_workbook\u001b[0;34m(filename, logfile, verbosity, use_mmap, file_contents, encoding_override, formatting_info, on_demand, ragged_rows)\u001b[0m\n\u001b[1;32m    114\u001b[0m         \u001b[0mpeek\u001b[0m \u001b[0;34m=\u001b[0m \u001b[0mfile_contents\u001b[0m\u001b[0;34m[\u001b[0m\u001b[0;34m:\u001b[0m\u001b[0mpeeksz\u001b[0m\u001b[0;34m]\u001b[0m\u001b[0;34m\u001b[0m\u001b[0m\n\u001b[1;32m    115\u001b[0m     \u001b[0;32melse\u001b[0m\u001b[0;34m:\u001b[0m\u001b[0;34m\u001b[0m\u001b[0m\n\u001b[0;32m--> 116\u001b[0;31m         \u001b[0;32mwith\u001b[0m \u001b[0mopen\u001b[0m\u001b[0;34m(\u001b[0m\u001b[0mfilename\u001b[0m\u001b[0;34m,\u001b[0m \u001b[0;34m\"rb\"\u001b[0m\u001b[0;34m)\u001b[0m \u001b[0;32mas\u001b[0m \u001b[0mf\u001b[0m\u001b[0;34m:\u001b[0m\u001b[0;34m\u001b[0m\u001b[0m\n\u001b[0m\u001b[1;32m    117\u001b[0m             \u001b[0mpeek\u001b[0m \u001b[0;34m=\u001b[0m \u001b[0mf\u001b[0m\u001b[0;34m.\u001b[0m\u001b[0mread\u001b[0m\u001b[0;34m(\u001b[0m\u001b[0mpeeksz\u001b[0m\u001b[0;34m)\u001b[0m\u001b[0;34m\u001b[0m\u001b[0m\n\u001b[1;32m    118\u001b[0m     \u001b[0;32mif\u001b[0m \u001b[0mpeek\u001b[0m \u001b[0;34m==\u001b[0m \u001b[0;34mb\"PK\\x03\\x04\"\u001b[0m\u001b[0;34m:\u001b[0m \u001b[0;31m# a ZIP file\u001b[0m\u001b[0;34m\u001b[0m\u001b[0m\n",
      "\u001b[0;31mFileNotFoundError\u001b[0m: [Errno 2] No such file or directory: './作者列表.xlsx'"
     ]
    }
   ],
   "source": [
    "authors_list=pd.read_excel('./作者列表.xlsx')"
   ]
  },
  {
   "cell_type": "code",
   "execution_count": 76,
   "metadata": {},
   "outputs": [
    {
     "ename": "NameError",
     "evalue": "name 'authors_list' is not defined",
     "output_type": "error",
     "traceback": [
      "\u001b[0;31m---------------------------------------------------------------------------\u001b[0m",
      "\u001b[0;31mNameError\u001b[0m                                 Traceback (most recent call last)",
      "\u001b[0;32m<ipython-input-76-b95612566991>\u001b[0m in \u001b[0;36m<module>\u001b[0;34m()\u001b[0m\n\u001b[0;32m----> 1\u001b[0;31m \u001b[0mauthors_list\u001b[0m\u001b[0;34m.\u001b[0m\u001b[0minsert\u001b[0m\u001b[0;34m(\u001b[0m\u001b[0mloc\u001b[0m\u001b[0;34m=\u001b[0m\u001b[0;36m0\u001b[0m\u001b[0;34m,\u001b[0m\u001b[0mcolumn\u001b[0m\u001b[0;34m=\u001b[0m\u001b[0;34m\"number\"\u001b[0m\u001b[0;34m,\u001b[0m\u001b[0mvalue\u001b[0m\u001b[0;34m=\u001b[0m\u001b[0;34m''\u001b[0m\u001b[0;34m)\u001b[0m\u001b[0;34m\u001b[0m\u001b[0m\n\u001b[0m",
      "\u001b[0;31mNameError\u001b[0m: name 'authors_list' is not defined"
     ]
    }
   ],
   "source": [
    "authors_list.insert(loc=0,column=\"number\",value='')"
   ]
  },
  {
   "cell_type": "code",
   "execution_count": 77,
   "metadata": {},
   "outputs": [
    {
     "ename": "NameError",
     "evalue": "name 'authors_list' is not defined",
     "output_type": "error",
     "traceback": [
      "\u001b[0;31m---------------------------------------------------------------------------\u001b[0m",
      "\u001b[0;31mNameError\u001b[0m                                 Traceback (most recent call last)",
      "\u001b[0;32m<ipython-input-77-2e6563a739d8>\u001b[0m in \u001b[0;36m<module>\u001b[0;34m()\u001b[0m\n\u001b[0;32m----> 1\u001b[0;31m \u001b[0mauthors_list\u001b[0m\u001b[0;34m.\u001b[0m\u001b[0minsert\u001b[0m\u001b[0;34m(\u001b[0m\u001b[0mloc\u001b[0m\u001b[0;34m=\u001b[0m\u001b[0;36m3\u001b[0m\u001b[0;34m,\u001b[0m\u001b[0mcolumn\u001b[0m\u001b[0;34m=\u001b[0m\u001b[0;34m\"achievement\"\u001b[0m\u001b[0;34m,\u001b[0m\u001b[0mvalue\u001b[0m\u001b[0;34m=\u001b[0m\u001b[0;36m0\u001b[0m\u001b[0;34m)\u001b[0m\u001b[0;34m\u001b[0m\u001b[0m\n\u001b[0m",
      "\u001b[0;31mNameError\u001b[0m: name 'authors_list' is not defined"
     ]
    }
   ],
   "source": [
    "authors_list.insert(loc=3,column=\"achievement\",value=0)"
   ]
  },
  {
   "cell_type": "code",
   "execution_count": 78,
   "metadata": {},
   "outputs": [
    {
     "ename": "NameError",
     "evalue": "name 'authors_list' is not defined",
     "output_type": "error",
     "traceback": [
      "\u001b[0;31m---------------------------------------------------------------------------\u001b[0m",
      "\u001b[0;31mNameError\u001b[0m                                 Traceback (most recent call last)",
      "\u001b[0;32m<ipython-input-78-3de033bdab1d>\u001b[0m in \u001b[0;36m<module>\u001b[0;34m()\u001b[0m\n\u001b[0;32m----> 1\u001b[0;31m \u001b[0;32mfor\u001b[0m \u001b[0mi\u001b[0m \u001b[0;32min\u001b[0m \u001b[0mrange\u001b[0m\u001b[0;34m(\u001b[0m\u001b[0mlen\u001b[0m\u001b[0;34m(\u001b[0m\u001b[0mauthors_list\u001b[0m\u001b[0;34m)\u001b[0m\u001b[0;34m)\u001b[0m\u001b[0;34m:\u001b[0m\u001b[0;34m\u001b[0m\u001b[0m\n\u001b[0m\u001b[1;32m      2\u001b[0m     \u001b[0mauthors_list\u001b[0m\u001b[0;34m.\u001b[0m\u001b[0mloc\u001b[0m\u001b[0;34m[\u001b[0m\u001b[0;34m[\u001b[0m\u001b[0mi\u001b[0m\u001b[0;34m]\u001b[0m\u001b[0;34m,\u001b[0m\u001b[0;34m[\u001b[0m\u001b[0;34m'number'\u001b[0m\u001b[0;34m]\u001b[0m\u001b[0;34m]\u001b[0m\u001b[0;34m=\u001b[0m\u001b[0mstr\u001b[0m\u001b[0;34m(\u001b[0m\u001b[0mi\u001b[0m\u001b[0;34m+\u001b[0m\u001b[0;36m1\u001b[0m\u001b[0;34m)\u001b[0m\u001b[0;34m.\u001b[0m\u001b[0mrjust\u001b[0m\u001b[0;34m(\u001b[0m\u001b[0;36m4\u001b[0m\u001b[0;34m,\u001b[0m\u001b[0;34m'0'\u001b[0m\u001b[0;34m)\u001b[0m\u001b[0;34m\u001b[0m\u001b[0m\n",
      "\u001b[0;31mNameError\u001b[0m: name 'authors_list' is not defined"
     ]
    }
   ],
   "source": [
    "for i in range(len(authors_list)):\n",
    "    authors_list.loc[[i],['number']]=str(i+1).rjust(4,'0')"
   ]
  },
  {
   "cell_type": "code",
   "execution_count": 79,
   "metadata": {},
   "outputs": [],
   "source": [
    "authorsnumber_cp=pd.DataFrame(columns=[\"author_a\",\"author_b\",\"organization\"])#创建关系列表"
   ]
  },
  {
   "cell_type": "code",
   "execution_count": null,
   "metadata": {},
   "outputs": [],
   "source": []
  },
  {
   "cell_type": "code",
   "execution_count": null,
   "metadata": {},
   "outputs": [],
   "source": [
    "for i in range(len(authors_cp)):\n",
    "    str1=authors_cp.loc[i,\"author_a\"]\n",
    "    str2=authors_cp.loc[i,\"author_b\"]\n",
    "    school=authors_cp.loc[i,'organization']\n",
    "    number(str1,str2,school)"
   ]
  },
  {
   "cell_type": "code",
   "execution_count": null,
   "metadata": {},
   "outputs": [],
   "source": []
  }
 ],
 "metadata": {
  "celltoolbar": "Tags",
  "kernelspec": {
   "display_name": "Python 3",
   "language": "python",
   "name": "python3"
  },
  "language_info": {
   "codemirror_mode": {
    "name": "ipython",
    "version": 3
   },
   "file_extension": ".py",
   "mimetype": "text/x-python",
   "name": "python",
   "nbconvert_exporter": "python",
   "pygments_lexer": "ipython3",
   "version": "3.7.0"
  }
 },
 "nbformat": 4,
 "nbformat_minor": 2
}
