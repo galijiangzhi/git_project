{
 "cells": [
  {
   "cell_type": "code",
   "execution_count": 1,
   "metadata": {},
   "outputs": [],
   "source": [
    "import pandas as pd\n",
    "import numpy as np\n",
    "import re\n",
    "import difflib\n",
    "import string\n",
    "from xpinyin import Pinyin\n",
    "py = Pinyin()\n",
    "pd.set_option('display.max_rows', None)\n",
    "p = re.compile(r'[（](.*?)[）]', re.S)\n",
    "def string_similar(s1, s2):#对比字符串相似度\n",
    "    return difflib.SequenceMatcher(None, s1, s2).quick_ratio()"
   ]
  },
  {
   "cell_type": "code",
   "execution_count": 2,
   "metadata": {},
   "outputs": [],
   "source": [
    "authors_cp=pd.read_excel('./作者关系2.0.xlsx')"
   ]
  },
  {
   "cell_type": "code",
   "execution_count": 4,
   "metadata": {},
   "outputs": [],
   "source": [
    "authors_list=pd.read_excel('./作者列表2.0.xlsx')"
   ]
  },
  {
   "cell_type": "code",
   "execution_count": 6,
   "metadata": {},
   "outputs": [],
   "source": [
    "authors_list.insert(loc=0,column=\"number\",value='')"
   ]
  },
  {
   "cell_type": "code",
   "execution_count": 7,
   "metadata": {},
   "outputs": [],
   "source": [
    "authors_list.insert(loc=3,column=\"achievement\",value=0)"
   ]
  },
  {
   "cell_type": "code",
   "execution_count": 8,
   "metadata": {},
   "outputs": [],
   "source": [
    "for i in range(len(authors_list)):\n",
    "    authors_list.loc[[i],['number']]=str(i+1).rjust(4,'0')"
   ]
  },
  {
   "cell_type": "code",
   "execution_count": 21,
   "metadata": {},
   "outputs": [],
   "source": [
    "authorsnumber_cp=pd.DataFrame(columns=[\"author_a\",\"author_b\",\"organization\"])#创建关系列表"
   ]
  },
  {
   "cell_type": "code",
   "execution_count": 10,
   "metadata": {},
   "outputs": [
    {
     "data": {
      "text/html": [
       "<div>\n",
       "<style scoped>\n",
       "    .dataframe tbody tr th:only-of-type {\n",
       "        vertical-align: middle;\n",
       "    }\n",
       "\n",
       "    .dataframe tbody tr th {\n",
       "        vertical-align: top;\n",
       "    }\n",
       "\n",
       "    .dataframe thead th {\n",
       "        text-align: right;\n",
       "    }\n",
       "</style>\n",
       "<table border=\"1\" class=\"dataframe\">\n",
       "  <thead>\n",
       "    <tr style=\"text-align: right;\">\n",
       "      <th></th>\n",
       "      <th>author_a</th>\n",
       "      <th>author_b</th>\n",
       "      <th>organization</th>\n",
       "    </tr>\n",
       "  </thead>\n",
       "  <tbody>\n",
       "  </tbody>\n",
       "</table>\n",
       "</div>"
      ],
      "text/plain": [
       "Empty DataFrame\n",
       "Columns: [author_a, author_b, organization]\n",
       "Index: []"
      ]
     },
     "execution_count": 10,
     "metadata": {},
     "output_type": "execute_result"
    }
   ],
   "source": [
    "authorsnumber_cp"
   ]
  },
  {
   "cell_type": "code",
   "execution_count": 11,
   "metadata": {},
   "outputs": [
    {
     "data": {
      "text/plain": [
       "'Qun Zong'"
      ]
     },
     "execution_count": 11,
     "metadata": {},
     "output_type": "execute_result"
    }
   ],
   "source": [
    "authors_cp.loc[12525,\"author_a\"]"
   ]
  },
  {
   "cell_type": "code",
   "execution_count": 12,
   "metadata": {},
   "outputs": [],
   "source": [
    "def fuhao(data):\n",
    "    return data.replace(' ','').replace(',','').replace('，','').replace(';','').replace('；','').replace('.','').replace('·','').replace('-','')"
   ]
  },
  {
   "cell_type": "code",
   "execution_count": 13,
   "metadata": {},
   "outputs": [],
   "source": [
    "def cn(data):#判断中文\n",
    "    res = True\n",
    "    for w in data.replace(' ','').replace(',','').replace('，','').replace(';','').replace('；','').replace('.','').replace('·',''):\n",
    "        if not '\\u4e00' <= w <= '\\u9fff':\n",
    "            res = False\n",
    "            break\n",
    "    return res"
   ]
  },
  {
   "cell_type": "code",
   "execution_count": 14,
   "metadata": {},
   "outputs": [],
   "source": [
    "def name(data):\n",
    "    result1 = py.get_pinyin(data).upper()\n",
    "    s = result1.split('-')\n",
    "    s1 = s[0]\n",
    "    del s[0]\n",
    "    result2=s1+''.join(i[0] for i in s)\n",
    "    return result2"
   ]
  },
  {
   "cell_type": "code",
   "execution_count": 20,
   "metadata": {},
   "outputs": [],
   "source": [
    "def cppd(str1,str2):\n",
    "    if cn(str1):#如果这次操作的是一个中文\n",
    "        if cn(str2):#str1和str2都是中文\n",
    "            print(f'{str1}和{str2}使用cn,cn')\n",
    "            if (str1.replace(' ','').replace('.',''))==(str2.replace(' ','').replace('.','')):\n",
    "                print(f'{str1}和{str2}使用cn,cn')\n",
    "                return True\n",
    "            else:\n",
    "                return False\n",
    "        else:\n",
    "            print(f'{str1}和{str2}使用cn,en')\n",
    "            str1_py = py.get_pinyin(str1).upper().replace('-','')#全名拼音\n",
    "            str1_py_s = name(str1)#拼音名缩写\n",
    "            if (string_similar(fuhao(str1_py), fuhao(str2))>0.89) or (string_similar(fuhao(str1_py_s), fuhao(str2))>=0.9):\n",
    "                return True\n",
    "            else:\n",
    "                return False\n",
    "    else:#str1是一个英文\n",
    "        str1_py = py.get_pinyin(str1).upper().replace('-','')#全名拼音\n",
    "        str1_py_s = name(str1)#拼音名缩写\n",
    "        str2_py = py.get_pinyin(str2).upper().replace('-','')#全名拼音\n",
    "        str2_py_s = name(str2)\n",
    "        if cn(str2):#str2是中文:\n",
    "            print(f'{str1}和{str2}使用en,en')\n",
    "            if (string_similar(fuhao(str2_py), fuhao(str1_py))>0.89) or (string_similar(fuhao(str2_py_s), fuhao(str1_py))>=0.9):\n",
    "                print(f'{str1}和{str2}的相似度是{string_similar(fuhao(str2_py), fuhao(str1_py))}和{string_similar(fuhao(str2_py_s), fuhao(str1_py))}')\n",
    "                return True\n",
    "            else:\n",
    "                return False\n",
    "        else:#两个都是英文\n",
    "            print(f'{str1}和{str2}使用en,cn')\n",
    "            if (string_similar(fuhao(str2_py),fuhao(str1_py))>0.89):\n",
    "                return True\n",
    "            else:\n",
    "                return False"
   ]
  },
  {
   "cell_type": "code",
   "execution_count": 16,
   "metadata": {},
   "outputs": [],
   "source": [
    "def number(str1,str2,school):\n",
    "    global authorsnumber_cp\n",
    "    global authors_list\n",
    "    number1=''\n",
    "    number2=''\n",
    "    for i in range(len(authors_list)):\n",
    "        if authors_list.loc[i,\"organization\"]==school and cppd(str1,authors_list.loc[i,\"authors\"]):\n",
    "            number1 = authors_list.loc[i,\"number\"]\n",
    "            authors_list.loc[i,\"achievement\"]+=1\n",
    "            print(f'{str1}匹配{authors_list.loc[i,\"authors\"]}')\n",
    "            break\n",
    "    for i in range(len(authors_list)):\n",
    "        if authors_list.loc[i,\"organization\"]==school and cppd(str2,authors_list.loc[i,\"authors\"]):\n",
    "            number2 = authors_list.loc[i,\"number\"]\n",
    "            authors_list.loc[i,\"achievement\"]+=1\n",
    "            print(f'{str2}匹配{authors_list.loc[i,\"authors\"]}')\n",
    "            break\n",
    "    authorsnumber_cp=authorsnumber_cp.append({\"author_a\":number1,\"author_b\":number2,\"organization\":school},ignore_index=True)"
   ]
  },
  {
   "cell_type": "code",
   "execution_count": 17,
   "metadata": {},
   "outputs": [
    {
     "data": {
      "text/plain": [
       "12586"
      ]
     },
     "execution_count": 17,
     "metadata": {},
     "output_type": "execute_result"
    }
   ],
   "source": [
    "len(authors_cp)"
   ]
  },
  {
   "cell_type": "code",
   "execution_count": 25,
   "metadata": {},
   "outputs": [
    {
     "name": "stdout",
     "output_type": "stream",
     "text": [
      "邹紫盛和邹紫盛使用cn,cn\n",
      "邹紫盛和邹紫盛使用cn,cn\n",
      "邹紫盛匹配邹紫盛\n",
      "陈鼎和邹紫盛使用cn,cn\n",
      "陈鼎和丛爽使用cn,cn\n",
      "陈鼎和王大欣使用cn,cn\n",
      "陈鼎和陈鼎使用cn,cn\n",
      "陈鼎和陈鼎使用cn,cn\n",
      "陈鼎匹配陈鼎\n"
     ]
    }
   ],
   "source": [
    "for i in range(len(authors_cp)):\n",
    "    str1=authors_cp.loc[i,\"author_a\"]\n",
    "    str2=authors_cp.loc[i,\"author_b\"]\n",
    "    school=authors_cp.loc[i,'organization']\n",
    "    number(str1,str2,school)"
   ]
  },
  {
   "cell_type": "code",
   "execution_count": 76,
   "metadata": {},
   "outputs": [],
   "source": [
    "authorsnumber_cp=pd.read_excel('./作者编号配对.xlsx')"
   ]
  },
  {
   "cell_type": "code",
   "execution_count": null,
   "metadata": {},
   "outputs": [],
   "source": []
  },
  {
   "cell_type": "code",
   "execution_count": null,
   "metadata": {},
   "outputs": [],
   "source": []
  },
  {
   "cell_type": "code",
   "execution_count": 27,
   "metadata": {},
   "outputs": [],
   "source": [
    "authorsnumber_cp.to_excel('作者编号配对2.0.xlsx',header=True)"
   ]
  },
  {
   "cell_type": "code",
   "execution_count": 28,
   "metadata": {},
   "outputs": [],
   "source": [
    "authors_list.to_excel('作者编号列表2.0.xlsx',header=True)"
   ]
  },
  {
   "cell_type": "code",
   "execution_count": null,
   "metadata": {},
   "outputs": [],
   "source": []
  }
 ],
 "metadata": {
  "kernelspec": {
   "display_name": "Python 3",
   "language": "python",
   "name": "python3"
  },
  "language_info": {
   "codemirror_mode": {
    "name": "ipython",
    "version": 3
   },
   "file_extension": ".py",
   "mimetype": "text/x-python",
   "name": "python",
   "nbconvert_exporter": "python",
   "pygments_lexer": "ipython3",
   "version": "3.7.0"
  }
 },
 "nbformat": 4,
 "nbformat_minor": 2
}
